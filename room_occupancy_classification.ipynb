{
  "nbformat": 4,
  "nbformat_minor": 0,
  "metadata": {
    "kernelspec": {
      "display_name": "Python 3",
      "language": "python",
      "name": "python3"
    },
    "language_info": {
      "codemirror_mode": {
        "name": "ipython",
        "version": 3
      },
      "file_extension": ".py",
      "mimetype": "text/x-python",
      "name": "python",
      "nbconvert_exporter": "python",
      "pygments_lexer": "ipython3",
      "version": "3.8.2"
    },
    "colab": {
      "name": "room-occupancy-classification.ipynb",
      "provenance": [],
      "include_colab_link": true
    }
  },
  "cells": [
    {
      "cell_type": "markdown",
      "metadata": {
        "id": "view-in-github",
        "colab_type": "text"
      },
      "source": [
        "<a href=\"https://colab.research.google.com/github/akashsonowal/office-room-occupancy-detection/blob/main/room_occupancy_classification.ipynb\" target=\"_parent\"><img src=\"https://colab.research.google.com/assets/colab-badge.svg\" alt=\"Open In Colab\"/></a>"
      ]
    },
    {
      "cell_type": "code",
      "metadata": {
        "colab": {
          "base_uri": "https://localhost:8080/"
        },
        "id": "zRUscQlLr_E_",
        "outputId": "e34dd19b-b438-4ea0-e6e4-6c2f4034ffc9"
      },
      "source": [
        "from google.colab import drive\n",
        "drive.mount('/content/drive')"
      ],
      "execution_count": 1,
      "outputs": [
        {
          "output_type": "stream",
          "text": [
            "Mounted at /content/drive\n"
          ],
          "name": "stdout"
        }
      ]
    },
    {
      "cell_type": "code",
      "metadata": {
        "colab": {
          "base_uri": "https://localhost:8080/"
        },
        "id": "W4PH4-iHr3NT",
        "outputId": "789568ff-289f-43cb-beca-ccd2493fdc25"
      },
      "source": [
        "!pip install scikit-plot"
      ],
      "execution_count": 3,
      "outputs": [
        {
          "output_type": "stream",
          "text": [
            "Collecting scikit-plot\n",
            "  Downloading scikit_plot-0.3.7-py3-none-any.whl (33 kB)\n",
            "Requirement already satisfied: matplotlib>=1.4.0 in /usr/local/lib/python3.7/dist-packages (from scikit-plot) (3.2.2)\n",
            "Requirement already satisfied: scipy>=0.9 in /usr/local/lib/python3.7/dist-packages (from scikit-plot) (1.4.1)\n",
            "Requirement already satisfied: joblib>=0.10 in /usr/local/lib/python3.7/dist-packages (from scikit-plot) (1.0.1)\n",
            "Requirement already satisfied: scikit-learn>=0.18 in /usr/local/lib/python3.7/dist-packages (from scikit-plot) (0.22.2.post1)\n",
            "Requirement already satisfied: numpy>=1.11 in /usr/local/lib/python3.7/dist-packages (from matplotlib>=1.4.0->scikit-plot) (1.19.5)\n",
            "Requirement already satisfied: pyparsing!=2.0.4,!=2.1.2,!=2.1.6,>=2.0.1 in /usr/local/lib/python3.7/dist-packages (from matplotlib>=1.4.0->scikit-plot) (2.4.7)\n",
            "Requirement already satisfied: python-dateutil>=2.1 in /usr/local/lib/python3.7/dist-packages (from matplotlib>=1.4.0->scikit-plot) (2.8.2)\n",
            "Requirement already satisfied: cycler>=0.10 in /usr/local/lib/python3.7/dist-packages (from matplotlib>=1.4.0->scikit-plot) (0.10.0)\n",
            "Requirement already satisfied: kiwisolver>=1.0.1 in /usr/local/lib/python3.7/dist-packages (from matplotlib>=1.4.0->scikit-plot) (1.3.1)\n",
            "Requirement already satisfied: six in /usr/local/lib/python3.7/dist-packages (from cycler>=0.10->matplotlib>=1.4.0->scikit-plot) (1.15.0)\n",
            "Installing collected packages: scikit-plot\n",
            "Successfully installed scikit-plot-0.3.7\n"
          ],
          "name": "stdout"
        }
      ]
    },
    {
      "cell_type": "markdown",
      "metadata": {
        "id": "JOytVVydq2jH"
      },
      "source": [
        "**Importing necessary libraries**"
      ]
    },
    {
      "cell_type": "code",
      "metadata": {
        "id": "stB3_XOuq2jL"
      },
      "source": [
        "import pandas as pd\n",
        "import numpy as np\n",
        "import matplotlib.pyplot as plt\n",
        "%matplotlib inline\n",
        "import seaborn as sns\n",
        "import statsmodels.api as sm\n",
        "from sklearn.metrics import confusion_matrix\n",
        "from sklearn.model_selection import train_test_split\n",
        "import scikitplot as skplt\n",
        "from sklearn import metrics\n",
        "from sklearn.metrics import roc_curve\n",
        "from sklearn.metrics import roc_auc_score\n",
        "from sklearn.feature_selection import RFE\n",
        "from sklearn.linear_model import LinearRegression\n",
        "from statsmodels.stats.outliers_influence import variance_inflation_factor\n",
        "from sklearn.metrics import classification_report, accuracy_score, auc\n",
        "from sklearn import preprocessing\n",
        "import plotly.graph_objs as go\n",
        "import plotly.offline as py\n",
        "import statsmodels as stm"
      ],
      "execution_count": 4,
      "outputs": []
    },
    {
      "cell_type": "markdown",
      "metadata": {
        "id": "lZk-2aCMq2jN"
      },
      "source": [
        "**Reading file**"
      ]
    },
    {
      "cell_type": "code",
      "metadata": {
        "id": "K0yDnIDoq2jO",
        "colab": {
          "base_uri": "https://localhost:8080/",
          "height": 204
        },
        "outputId": "b2fb2a4c-f06b-470d-9fa3-de2b657f27d0"
      },
      "source": [
        "path = '/content/drive/MyDrive/Projects/05. Room Occupancy Classification using Environmental Factors/datatest.csv'\n",
        "dataset = pd.read_csv(path)\n",
        "dataset.head()"
      ],
      "execution_count": 5,
      "outputs": [
        {
          "output_type": "execute_result",
          "data": {
            "text/html": [
              "<div>\n",
              "<style scoped>\n",
              "    .dataframe tbody tr th:only-of-type {\n",
              "        vertical-align: middle;\n",
              "    }\n",
              "\n",
              "    .dataframe tbody tr th {\n",
              "        vertical-align: top;\n",
              "    }\n",
              "\n",
              "    .dataframe thead th {\n",
              "        text-align: right;\n",
              "    }\n",
              "</style>\n",
              "<table border=\"1\" class=\"dataframe\">\n",
              "  <thead>\n",
              "    <tr style=\"text-align: right;\">\n",
              "      <th></th>\n",
              "      <th>date</th>\n",
              "      <th>Temperature</th>\n",
              "      <th>Humidity</th>\n",
              "      <th>Light</th>\n",
              "      <th>CO2</th>\n",
              "      <th>HumidityRatio</th>\n",
              "      <th>Occupancy</th>\n",
              "    </tr>\n",
              "  </thead>\n",
              "  <tbody>\n",
              "    <tr>\n",
              "      <th>0</th>\n",
              "      <td>2/2/2015 14:19</td>\n",
              "      <td>23.7000</td>\n",
              "      <td>26.272</td>\n",
              "      <td>585.200000</td>\n",
              "      <td>749.200000</td>\n",
              "      <td>0.004764</td>\n",
              "      <td>1</td>\n",
              "    </tr>\n",
              "    <tr>\n",
              "      <th>1</th>\n",
              "      <td>2/2/2015 14:19</td>\n",
              "      <td>23.7180</td>\n",
              "      <td>26.290</td>\n",
              "      <td>578.400000</td>\n",
              "      <td>760.400000</td>\n",
              "      <td>0.004773</td>\n",
              "      <td>1</td>\n",
              "    </tr>\n",
              "    <tr>\n",
              "      <th>2</th>\n",
              "      <td>2/2/2015 14:21</td>\n",
              "      <td>23.7300</td>\n",
              "      <td>26.230</td>\n",
              "      <td>572.666667</td>\n",
              "      <td>769.666667</td>\n",
              "      <td>0.004765</td>\n",
              "      <td>1</td>\n",
              "    </tr>\n",
              "    <tr>\n",
              "      <th>3</th>\n",
              "      <td>2/2/2015 14:22</td>\n",
              "      <td>23.7225</td>\n",
              "      <td>26.125</td>\n",
              "      <td>493.750000</td>\n",
              "      <td>774.750000</td>\n",
              "      <td>0.004744</td>\n",
              "      <td>1</td>\n",
              "    </tr>\n",
              "    <tr>\n",
              "      <th>4</th>\n",
              "      <td>2/2/2015 14:23</td>\n",
              "      <td>23.7540</td>\n",
              "      <td>26.200</td>\n",
              "      <td>488.600000</td>\n",
              "      <td>779.000000</td>\n",
              "      <td>0.004767</td>\n",
              "      <td>1</td>\n",
              "    </tr>\n",
              "  </tbody>\n",
              "</table>\n",
              "</div>"
            ],
            "text/plain": [
              "             date  Temperature  Humidity  ...         CO2  HumidityRatio  Occupancy\n",
              "0  2/2/2015 14:19      23.7000    26.272  ...  749.200000       0.004764          1\n",
              "1  2/2/2015 14:19      23.7180    26.290  ...  760.400000       0.004773          1\n",
              "2  2/2/2015 14:21      23.7300    26.230  ...  769.666667       0.004765          1\n",
              "3  2/2/2015 14:22      23.7225    26.125  ...  774.750000       0.004744          1\n",
              "4  2/2/2015 14:23      23.7540    26.200  ...  779.000000       0.004767          1\n",
              "\n",
              "[5 rows x 7 columns]"
            ]
          },
          "metadata": {
            "tags": []
          },
          "execution_count": 5
        }
      ]
    },
    {
      "cell_type": "code",
      "metadata": {
        "id": "6vqxQtNtq2jO"
      },
      "source": [
        "dataset = dataset.drop(['date'], axis = 1)"
      ],
      "execution_count": 6,
      "outputs": []
    },
    {
      "cell_type": "code",
      "metadata": {
        "id": "QIa_4iv8q2jP",
        "colab": {
          "base_uri": "https://localhost:8080/",
          "height": 204
        },
        "outputId": "e2b96a90-d810-455e-d9bd-274c7e736963"
      },
      "source": [
        "dataset.head()"
      ],
      "execution_count": 7,
      "outputs": [
        {
          "output_type": "execute_result",
          "data": {
            "text/html": [
              "<div>\n",
              "<style scoped>\n",
              "    .dataframe tbody tr th:only-of-type {\n",
              "        vertical-align: middle;\n",
              "    }\n",
              "\n",
              "    .dataframe tbody tr th {\n",
              "        vertical-align: top;\n",
              "    }\n",
              "\n",
              "    .dataframe thead th {\n",
              "        text-align: right;\n",
              "    }\n",
              "</style>\n",
              "<table border=\"1\" class=\"dataframe\">\n",
              "  <thead>\n",
              "    <tr style=\"text-align: right;\">\n",
              "      <th></th>\n",
              "      <th>Temperature</th>\n",
              "      <th>Humidity</th>\n",
              "      <th>Light</th>\n",
              "      <th>CO2</th>\n",
              "      <th>HumidityRatio</th>\n",
              "      <th>Occupancy</th>\n",
              "    </tr>\n",
              "  </thead>\n",
              "  <tbody>\n",
              "    <tr>\n",
              "      <th>0</th>\n",
              "      <td>23.7000</td>\n",
              "      <td>26.272</td>\n",
              "      <td>585.200000</td>\n",
              "      <td>749.200000</td>\n",
              "      <td>0.004764</td>\n",
              "      <td>1</td>\n",
              "    </tr>\n",
              "    <tr>\n",
              "      <th>1</th>\n",
              "      <td>23.7180</td>\n",
              "      <td>26.290</td>\n",
              "      <td>578.400000</td>\n",
              "      <td>760.400000</td>\n",
              "      <td>0.004773</td>\n",
              "      <td>1</td>\n",
              "    </tr>\n",
              "    <tr>\n",
              "      <th>2</th>\n",
              "      <td>23.7300</td>\n",
              "      <td>26.230</td>\n",
              "      <td>572.666667</td>\n",
              "      <td>769.666667</td>\n",
              "      <td>0.004765</td>\n",
              "      <td>1</td>\n",
              "    </tr>\n",
              "    <tr>\n",
              "      <th>3</th>\n",
              "      <td>23.7225</td>\n",
              "      <td>26.125</td>\n",
              "      <td>493.750000</td>\n",
              "      <td>774.750000</td>\n",
              "      <td>0.004744</td>\n",
              "      <td>1</td>\n",
              "    </tr>\n",
              "    <tr>\n",
              "      <th>4</th>\n",
              "      <td>23.7540</td>\n",
              "      <td>26.200</td>\n",
              "      <td>488.600000</td>\n",
              "      <td>779.000000</td>\n",
              "      <td>0.004767</td>\n",
              "      <td>1</td>\n",
              "    </tr>\n",
              "  </tbody>\n",
              "</table>\n",
              "</div>"
            ],
            "text/plain": [
              "   Temperature  Humidity       Light         CO2  HumidityRatio  Occupancy\n",
              "0      23.7000    26.272  585.200000  749.200000       0.004764          1\n",
              "1      23.7180    26.290  578.400000  760.400000       0.004773          1\n",
              "2      23.7300    26.230  572.666667  769.666667       0.004765          1\n",
              "3      23.7225    26.125  493.750000  774.750000       0.004744          1\n",
              "4      23.7540    26.200  488.600000  779.000000       0.004767          1"
            ]
          },
          "metadata": {
            "tags": []
          },
          "execution_count": 7
        }
      ]
    },
    {
      "cell_type": "code",
      "metadata": {
        "id": "pXgkTDJ_q2jP",
        "colab": {
          "base_uri": "https://localhost:8080/",
          "height": 297
        },
        "outputId": "40a79646-e930-42e0-aa01-ca78007ef59d"
      },
      "source": [
        "dataset.describe()"
      ],
      "execution_count": 8,
      "outputs": [
        {
          "output_type": "execute_result",
          "data": {
            "text/html": [
              "<div>\n",
              "<style scoped>\n",
              "    .dataframe tbody tr th:only-of-type {\n",
              "        vertical-align: middle;\n",
              "    }\n",
              "\n",
              "    .dataframe tbody tr th {\n",
              "        vertical-align: top;\n",
              "    }\n",
              "\n",
              "    .dataframe thead th {\n",
              "        text-align: right;\n",
              "    }\n",
              "</style>\n",
              "<table border=\"1\" class=\"dataframe\">\n",
              "  <thead>\n",
              "    <tr style=\"text-align: right;\">\n",
              "      <th></th>\n",
              "      <th>Temperature</th>\n",
              "      <th>Humidity</th>\n",
              "      <th>Light</th>\n",
              "      <th>CO2</th>\n",
              "      <th>HumidityRatio</th>\n",
              "      <th>Occupancy</th>\n",
              "    </tr>\n",
              "  </thead>\n",
              "  <tbody>\n",
              "    <tr>\n",
              "      <th>count</th>\n",
              "      <td>20560.000000</td>\n",
              "      <td>20560.000000</td>\n",
              "      <td>20560.000000</td>\n",
              "      <td>20560.000000</td>\n",
              "      <td>20560.000000</td>\n",
              "      <td>20560.000000</td>\n",
              "    </tr>\n",
              "    <tr>\n",
              "      <th>mean</th>\n",
              "      <td>20.906212</td>\n",
              "      <td>27.655925</td>\n",
              "      <td>130.756622</td>\n",
              "      <td>690.553276</td>\n",
              "      <td>0.004228</td>\n",
              "      <td>0.231031</td>\n",
              "    </tr>\n",
              "    <tr>\n",
              "      <th>std</th>\n",
              "      <td>1.055315</td>\n",
              "      <td>4.982154</td>\n",
              "      <td>210.430875</td>\n",
              "      <td>311.201281</td>\n",
              "      <td>0.000768</td>\n",
              "      <td>0.421503</td>\n",
              "    </tr>\n",
              "    <tr>\n",
              "      <th>min</th>\n",
              "      <td>19.000000</td>\n",
              "      <td>16.745000</td>\n",
              "      <td>0.000000</td>\n",
              "      <td>412.750000</td>\n",
              "      <td>0.002674</td>\n",
              "      <td>0.000000</td>\n",
              "    </tr>\n",
              "    <tr>\n",
              "      <th>25%</th>\n",
              "      <td>20.200000</td>\n",
              "      <td>24.500000</td>\n",
              "      <td>0.000000</td>\n",
              "      <td>460.000000</td>\n",
              "      <td>0.003719</td>\n",
              "      <td>0.000000</td>\n",
              "    </tr>\n",
              "    <tr>\n",
              "      <th>50%</th>\n",
              "      <td>20.700000</td>\n",
              "      <td>27.290000</td>\n",
              "      <td>0.000000</td>\n",
              "      <td>565.416667</td>\n",
              "      <td>0.004292</td>\n",
              "      <td>0.000000</td>\n",
              "    </tr>\n",
              "    <tr>\n",
              "      <th>75%</th>\n",
              "      <td>21.525000</td>\n",
              "      <td>31.290000</td>\n",
              "      <td>301.000000</td>\n",
              "      <td>804.666667</td>\n",
              "      <td>0.004832</td>\n",
              "      <td>0.000000</td>\n",
              "    </tr>\n",
              "    <tr>\n",
              "      <th>max</th>\n",
              "      <td>24.408333</td>\n",
              "      <td>39.500000</td>\n",
              "      <td>1697.250000</td>\n",
              "      <td>2076.500000</td>\n",
              "      <td>0.006476</td>\n",
              "      <td>1.000000</td>\n",
              "    </tr>\n",
              "  </tbody>\n",
              "</table>\n",
              "</div>"
            ],
            "text/plain": [
              "        Temperature      Humidity  ...  HumidityRatio     Occupancy\n",
              "count  20560.000000  20560.000000  ...   20560.000000  20560.000000\n",
              "mean      20.906212     27.655925  ...       0.004228      0.231031\n",
              "std        1.055315      4.982154  ...       0.000768      0.421503\n",
              "min       19.000000     16.745000  ...       0.002674      0.000000\n",
              "25%       20.200000     24.500000  ...       0.003719      0.000000\n",
              "50%       20.700000     27.290000  ...       0.004292      0.000000\n",
              "75%       21.525000     31.290000  ...       0.004832      0.000000\n",
              "max       24.408333     39.500000  ...       0.006476      1.000000\n",
              "\n",
              "[8 rows x 6 columns]"
            ]
          },
          "metadata": {
            "tags": []
          },
          "execution_count": 8
        }
      ]
    },
    {
      "cell_type": "markdown",
      "metadata": {
        "id": "7wmIF2t3q2jQ"
      },
      "source": [
        "**Correlation Matrix**"
      ]
    },
    {
      "cell_type": "code",
      "metadata": {
        "id": "C3tisirwq2jR",
        "colab": {
          "base_uri": "https://localhost:8080/",
          "height": 235
        },
        "outputId": "6d2def1e-d9da-4b4d-a6e9-21a3ff123ab5"
      },
      "source": [
        "dataset.corr()"
      ],
      "execution_count": 9,
      "outputs": [
        {
          "output_type": "execute_result",
          "data": {
            "text/html": [
              "<div>\n",
              "<style scoped>\n",
              "    .dataframe tbody tr th:only-of-type {\n",
              "        vertical-align: middle;\n",
              "    }\n",
              "\n",
              "    .dataframe tbody tr th {\n",
              "        vertical-align: top;\n",
              "    }\n",
              "\n",
              "    .dataframe thead th {\n",
              "        text-align: right;\n",
              "    }\n",
              "</style>\n",
              "<table border=\"1\" class=\"dataframe\">\n",
              "  <thead>\n",
              "    <tr style=\"text-align: right;\">\n",
              "      <th></th>\n",
              "      <th>Temperature</th>\n",
              "      <th>Humidity</th>\n",
              "      <th>Light</th>\n",
              "      <th>CO2</th>\n",
              "      <th>HumidityRatio</th>\n",
              "      <th>Occupancy</th>\n",
              "    </tr>\n",
              "  </thead>\n",
              "  <tbody>\n",
              "    <tr>\n",
              "      <th>Temperature</th>\n",
              "      <td>1.000000</td>\n",
              "      <td>-0.156964</td>\n",
              "      <td>0.688571</td>\n",
              "      <td>0.449989</td>\n",
              "      <td>0.205280</td>\n",
              "      <td>0.555610</td>\n",
              "    </tr>\n",
              "    <tr>\n",
              "      <th>Humidity</th>\n",
              "      <td>-0.156964</td>\n",
              "      <td>1.000000</td>\n",
              "      <td>-0.029459</td>\n",
              "      <td>0.299746</td>\n",
              "      <td>0.932724</td>\n",
              "      <td>0.046240</td>\n",
              "    </tr>\n",
              "    <tr>\n",
              "      <th>Light</th>\n",
              "      <td>0.688571</td>\n",
              "      <td>-0.029459</td>\n",
              "      <td>1.000000</td>\n",
              "      <td>0.448105</td>\n",
              "      <td>0.223329</td>\n",
              "      <td>0.914850</td>\n",
              "    </tr>\n",
              "    <tr>\n",
              "      <th>CO2</th>\n",
              "      <td>0.449989</td>\n",
              "      <td>0.299746</td>\n",
              "      <td>0.448105</td>\n",
              "      <td>1.000000</td>\n",
              "      <td>0.477965</td>\n",
              "      <td>0.501582</td>\n",
              "    </tr>\n",
              "    <tr>\n",
              "      <th>HumidityRatio</th>\n",
              "      <td>0.205280</td>\n",
              "      <td>0.932724</td>\n",
              "      <td>0.223329</td>\n",
              "      <td>0.477965</td>\n",
              "      <td>1.000000</td>\n",
              "      <td>0.257324</td>\n",
              "    </tr>\n",
              "    <tr>\n",
              "      <th>Occupancy</th>\n",
              "      <td>0.555610</td>\n",
              "      <td>0.046240</td>\n",
              "      <td>0.914850</td>\n",
              "      <td>0.501582</td>\n",
              "      <td>0.257324</td>\n",
              "      <td>1.000000</td>\n",
              "    </tr>\n",
              "  </tbody>\n",
              "</table>\n",
              "</div>"
            ],
            "text/plain": [
              "               Temperature  Humidity  ...  HumidityRatio  Occupancy\n",
              "Temperature       1.000000 -0.156964  ...       0.205280   0.555610\n",
              "Humidity         -0.156964  1.000000  ...       0.932724   0.046240\n",
              "Light             0.688571 -0.029459  ...       0.223329   0.914850\n",
              "CO2               0.449989  0.299746  ...       0.477965   0.501582\n",
              "HumidityRatio     0.205280  0.932724  ...       1.000000   0.257324\n",
              "Occupancy         0.555610  0.046240  ...       0.257324   1.000000\n",
              "\n",
              "[6 rows x 6 columns]"
            ]
          },
          "metadata": {
            "tags": []
          },
          "execution_count": 9
        }
      ]
    },
    {
      "cell_type": "markdown",
      "metadata": {
        "id": "vZh9PQJwq2jS"
      },
      "source": [
        "**Plots**"
      ]
    },
    {
      "cell_type": "code",
      "metadata": {
        "id": "TtBxql1gq2jS"
      },
      "source": [
        "D = dataset[(dataset[\"Occupancy\"] != 0)]\n",
        "H = dataset[(dataset[\"Occupancy\"] == 0)]"
      ],
      "execution_count": 10,
      "outputs": []
    },
    {
      "cell_type": "code",
      "metadata": {
        "id": "FyWBDofGq2jT"
      },
      "source": [
        "#------------COUNT-----------------------\n",
        "def target_count():\n",
        "    trace = go.Bar( x = dataset['Occupancy'].value_counts().values.tolist(), \n",
        "                    y = ['Not Occupied','Occupied' ], \n",
        "                    orientation = 'h', \n",
        "                    text = dataset['Occupancy'].value_counts().values.tolist(), \n",
        "                    textfont = dict(size = 15),\n",
        "                    textposition = 'auto',\n",
        "                    opacity = 0.8,marker = dict(\n",
        "                    color = ['lightskyblue', 'gold'],\n",
        "                    line = dict(color = '#000000',width=1.5)))\n",
        "    layout = dict(title =  'Count of Occupancy variable')\n",
        "    fig = dict(data = [trace], layout=layout)\n",
        "    py.iplot(fig)\n",
        "    \n",
        "#------------PERCENTAGE-------------------\n",
        "def target_percent():\n",
        "    trace = go.Pie(labels = ['Not Occupied','Occupied'], values = dataset['Occupancy'].value_counts(), \n",
        "                   textfont = dict(size = 15), opacity = 0.8,\n",
        "                   marker = dict(colors = ['lightskyblue', 'gold'], \n",
        "                               line = dict(color = '#000000', width = 1.5)))\n",
        "    layout = dict(title =  'Distribution of Occupancy variable')\n",
        "    fig = dict(data = [trace], layout=layout)\n",
        "    py.iplot(fig)"
      ],
      "execution_count": 11,
      "outputs": []
    },
    {
      "cell_type": "code",
      "metadata": {
        "id": "Lx69KQ5lq2jT",
        "colab": {
          "base_uri": "https://localhost:8080/",
          "height": 1000
        },
        "outputId": "dc4de26d-e9fb-40ea-d258-93d3ff2b1f33"
      },
      "source": [
        "target_count()\n",
        "target_percent()"
      ],
      "execution_count": 12,
      "outputs": [
        {
          "output_type": "display_data",
          "data": {
            "text/html": [
              "<html>\n",
              "<head><meta charset=\"utf-8\" /></head>\n",
              "<body>\n",
              "    <div>\n",
              "            <script src=\"https://cdnjs.cloudflare.com/ajax/libs/mathjax/2.7.5/MathJax.js?config=TeX-AMS-MML_SVG\"></script><script type=\"text/javascript\">if (window.MathJax) {MathJax.Hub.Config({SVG: {font: \"STIX-Web\"}});}</script>\n",
              "                <script type=\"text/javascript\">window.PlotlyConfig = {MathJaxConfig: 'local'};</script>\n",
              "        <script src=\"https://cdn.plot.ly/plotly-latest.min.js\"></script>    \n",
              "            <div id=\"da0382cb-c4b3-4d93-aa97-e88f82db94e9\" class=\"plotly-graph-div\" style=\"height:525px; width:100%;\"></div>\n",
              "            <script type=\"text/javascript\">\n",
              "                \n",
              "                    window.PLOTLYENV=window.PLOTLYENV || {};\n",
              "                    \n",
              "                if (document.getElementById(\"da0382cb-c4b3-4d93-aa97-e88f82db94e9\")) {\n",
              "                    Plotly.newPlot(\n",
              "                        'da0382cb-c4b3-4d93-aa97-e88f82db94e9',\n",
              "                        [{\"marker\": {\"color\": [\"lightskyblue\", \"gold\"], \"line\": {\"color\": \"#000000\", \"width\": 1.5}}, \"opacity\": 0.8, \"orientation\": \"h\", \"text\": [\"15810\", \"4750\"], \"textfont\": {\"size\": 15}, \"textposition\": \"auto\", \"type\": \"bar\", \"x\": [15810, 4750], \"y\": [\"Not Occupied\", \"Occupied\"]}],\n",
              "                        {\"template\": {\"data\": {\"bar\": [{\"error_x\": {\"color\": \"#2a3f5f\"}, \"error_y\": {\"color\": \"#2a3f5f\"}, \"marker\": {\"line\": {\"color\": \"#E5ECF6\", \"width\": 0.5}}, \"type\": \"bar\"}], \"barpolar\": [{\"marker\": {\"line\": {\"color\": \"#E5ECF6\", \"width\": 0.5}}, \"type\": \"barpolar\"}], \"carpet\": [{\"aaxis\": {\"endlinecolor\": \"#2a3f5f\", \"gridcolor\": \"white\", \"linecolor\": \"white\", \"minorgridcolor\": \"white\", \"startlinecolor\": \"#2a3f5f\"}, \"baxis\": {\"endlinecolor\": \"#2a3f5f\", \"gridcolor\": \"white\", \"linecolor\": \"white\", \"minorgridcolor\": \"white\", \"startlinecolor\": \"#2a3f5f\"}, \"type\": \"carpet\"}], \"choropleth\": [{\"colorbar\": {\"outlinewidth\": 0, \"ticks\": \"\"}, \"type\": \"choropleth\"}], \"contour\": [{\"colorbar\": {\"outlinewidth\": 0, \"ticks\": \"\"}, \"colorscale\": [[0.0, \"#0d0887\"], [0.1111111111111111, \"#46039f\"], [0.2222222222222222, \"#7201a8\"], [0.3333333333333333, \"#9c179e\"], [0.4444444444444444, \"#bd3786\"], [0.5555555555555556, \"#d8576b\"], [0.6666666666666666, \"#ed7953\"], [0.7777777777777778, \"#fb9f3a\"], [0.8888888888888888, \"#fdca26\"], [1.0, \"#f0f921\"]], \"type\": \"contour\"}], \"contourcarpet\": [{\"colorbar\": {\"outlinewidth\": 0, \"ticks\": \"\"}, \"type\": \"contourcarpet\"}], \"heatmap\": [{\"colorbar\": {\"outlinewidth\": 0, \"ticks\": \"\"}, \"colorscale\": [[0.0, \"#0d0887\"], [0.1111111111111111, \"#46039f\"], [0.2222222222222222, \"#7201a8\"], [0.3333333333333333, \"#9c179e\"], [0.4444444444444444, \"#bd3786\"], [0.5555555555555556, \"#d8576b\"], [0.6666666666666666, \"#ed7953\"], [0.7777777777777778, \"#fb9f3a\"], [0.8888888888888888, \"#fdca26\"], [1.0, \"#f0f921\"]], \"type\": \"heatmap\"}], \"heatmapgl\": [{\"colorbar\": {\"outlinewidth\": 0, \"ticks\": \"\"}, \"colorscale\": [[0.0, \"#0d0887\"], [0.1111111111111111, \"#46039f\"], [0.2222222222222222, \"#7201a8\"], [0.3333333333333333, \"#9c179e\"], [0.4444444444444444, \"#bd3786\"], [0.5555555555555556, \"#d8576b\"], [0.6666666666666666, \"#ed7953\"], [0.7777777777777778, \"#fb9f3a\"], [0.8888888888888888, \"#fdca26\"], [1.0, \"#f0f921\"]], \"type\": \"heatmapgl\"}], \"histogram\": [{\"marker\": {\"colorbar\": {\"outlinewidth\": 0, \"ticks\": \"\"}}, \"type\": \"histogram\"}], \"histogram2d\": [{\"colorbar\": {\"outlinewidth\": 0, \"ticks\": \"\"}, \"colorscale\": [[0.0, \"#0d0887\"], [0.1111111111111111, \"#46039f\"], [0.2222222222222222, \"#7201a8\"], [0.3333333333333333, \"#9c179e\"], [0.4444444444444444, \"#bd3786\"], [0.5555555555555556, \"#d8576b\"], [0.6666666666666666, \"#ed7953\"], [0.7777777777777778, \"#fb9f3a\"], [0.8888888888888888, \"#fdca26\"], [1.0, \"#f0f921\"]], \"type\": \"histogram2d\"}], \"histogram2dcontour\": [{\"colorbar\": {\"outlinewidth\": 0, \"ticks\": \"\"}, \"colorscale\": [[0.0, \"#0d0887\"], [0.1111111111111111, \"#46039f\"], [0.2222222222222222, \"#7201a8\"], [0.3333333333333333, \"#9c179e\"], [0.4444444444444444, \"#bd3786\"], [0.5555555555555556, \"#d8576b\"], [0.6666666666666666, \"#ed7953\"], [0.7777777777777778, \"#fb9f3a\"], [0.8888888888888888, \"#fdca26\"], [1.0, \"#f0f921\"]], \"type\": \"histogram2dcontour\"}], \"mesh3d\": [{\"colorbar\": {\"outlinewidth\": 0, \"ticks\": \"\"}, \"type\": \"mesh3d\"}], \"parcoords\": [{\"line\": {\"colorbar\": {\"outlinewidth\": 0, \"ticks\": \"\"}}, \"type\": \"parcoords\"}], \"pie\": [{\"automargin\": true, \"type\": \"pie\"}], \"scatter\": [{\"marker\": {\"colorbar\": {\"outlinewidth\": 0, \"ticks\": \"\"}}, \"type\": \"scatter\"}], \"scatter3d\": [{\"line\": {\"colorbar\": {\"outlinewidth\": 0, \"ticks\": \"\"}}, \"marker\": {\"colorbar\": {\"outlinewidth\": 0, \"ticks\": \"\"}}, \"type\": \"scatter3d\"}], \"scattercarpet\": [{\"marker\": {\"colorbar\": {\"outlinewidth\": 0, \"ticks\": \"\"}}, \"type\": \"scattercarpet\"}], \"scattergeo\": [{\"marker\": {\"colorbar\": {\"outlinewidth\": 0, \"ticks\": \"\"}}, \"type\": \"scattergeo\"}], \"scattergl\": [{\"marker\": {\"colorbar\": {\"outlinewidth\": 0, \"ticks\": \"\"}}, \"type\": \"scattergl\"}], \"scattermapbox\": [{\"marker\": {\"colorbar\": {\"outlinewidth\": 0, \"ticks\": \"\"}}, \"type\": \"scattermapbox\"}], \"scatterpolar\": [{\"marker\": {\"colorbar\": {\"outlinewidth\": 0, \"ticks\": \"\"}}, \"type\": \"scatterpolar\"}], \"scatterpolargl\": [{\"marker\": {\"colorbar\": {\"outlinewidth\": 0, \"ticks\": \"\"}}, \"type\": \"scatterpolargl\"}], \"scatterternary\": [{\"marker\": {\"colorbar\": {\"outlinewidth\": 0, \"ticks\": \"\"}}, \"type\": \"scatterternary\"}], \"surface\": [{\"colorbar\": {\"outlinewidth\": 0, \"ticks\": \"\"}, \"colorscale\": [[0.0, \"#0d0887\"], [0.1111111111111111, \"#46039f\"], [0.2222222222222222, \"#7201a8\"], [0.3333333333333333, \"#9c179e\"], [0.4444444444444444, \"#bd3786\"], [0.5555555555555556, \"#d8576b\"], [0.6666666666666666, \"#ed7953\"], [0.7777777777777778, \"#fb9f3a\"], [0.8888888888888888, \"#fdca26\"], [1.0, \"#f0f921\"]], \"type\": \"surface\"}], \"table\": [{\"cells\": {\"fill\": {\"color\": \"#EBF0F8\"}, \"line\": {\"color\": \"white\"}}, \"header\": {\"fill\": {\"color\": \"#C8D4E3\"}, \"line\": {\"color\": \"white\"}}, \"type\": \"table\"}]}, \"layout\": {\"annotationdefaults\": {\"arrowcolor\": \"#2a3f5f\", \"arrowhead\": 0, \"arrowwidth\": 1}, \"coloraxis\": {\"colorbar\": {\"outlinewidth\": 0, \"ticks\": \"\"}}, \"colorscale\": {\"diverging\": [[0, \"#8e0152\"], [0.1, \"#c51b7d\"], [0.2, \"#de77ae\"], [0.3, \"#f1b6da\"], [0.4, \"#fde0ef\"], [0.5, \"#f7f7f7\"], [0.6, \"#e6f5d0\"], [0.7, \"#b8e186\"], [0.8, \"#7fbc41\"], [0.9, \"#4d9221\"], [1, \"#276419\"]], \"sequential\": [[0.0, \"#0d0887\"], [0.1111111111111111, \"#46039f\"], [0.2222222222222222, \"#7201a8\"], [0.3333333333333333, \"#9c179e\"], [0.4444444444444444, \"#bd3786\"], [0.5555555555555556, \"#d8576b\"], [0.6666666666666666, \"#ed7953\"], [0.7777777777777778, \"#fb9f3a\"], [0.8888888888888888, \"#fdca26\"], [1.0, \"#f0f921\"]], \"sequentialminus\": [[0.0, \"#0d0887\"], [0.1111111111111111, \"#46039f\"], [0.2222222222222222, \"#7201a8\"], [0.3333333333333333, \"#9c179e\"], [0.4444444444444444, \"#bd3786\"], [0.5555555555555556, \"#d8576b\"], [0.6666666666666666, \"#ed7953\"], [0.7777777777777778, \"#fb9f3a\"], [0.8888888888888888, \"#fdca26\"], [1.0, \"#f0f921\"]]}, \"colorway\": [\"#636efa\", \"#EF553B\", \"#00cc96\", \"#ab63fa\", \"#FFA15A\", \"#19d3f3\", \"#FF6692\", \"#B6E880\", \"#FF97FF\", \"#FECB52\"], \"font\": {\"color\": \"#2a3f5f\"}, \"geo\": {\"bgcolor\": \"white\", \"lakecolor\": \"white\", \"landcolor\": \"#E5ECF6\", \"showlakes\": true, \"showland\": true, \"subunitcolor\": \"white\"}, \"hoverlabel\": {\"align\": \"left\"}, \"hovermode\": \"closest\", \"mapbox\": {\"style\": \"light\"}, \"paper_bgcolor\": \"white\", \"plot_bgcolor\": \"#E5ECF6\", \"polar\": {\"angularaxis\": {\"gridcolor\": \"white\", \"linecolor\": \"white\", \"ticks\": \"\"}, \"bgcolor\": \"#E5ECF6\", \"radialaxis\": {\"gridcolor\": \"white\", \"linecolor\": \"white\", \"ticks\": \"\"}}, \"scene\": {\"xaxis\": {\"backgroundcolor\": \"#E5ECF6\", \"gridcolor\": \"white\", \"gridwidth\": 2, \"linecolor\": \"white\", \"showbackground\": true, \"ticks\": \"\", \"zerolinecolor\": \"white\"}, \"yaxis\": {\"backgroundcolor\": \"#E5ECF6\", \"gridcolor\": \"white\", \"gridwidth\": 2, \"linecolor\": \"white\", \"showbackground\": true, \"ticks\": \"\", \"zerolinecolor\": \"white\"}, \"zaxis\": {\"backgroundcolor\": \"#E5ECF6\", \"gridcolor\": \"white\", \"gridwidth\": 2, \"linecolor\": \"white\", \"showbackground\": true, \"ticks\": \"\", \"zerolinecolor\": \"white\"}}, \"shapedefaults\": {\"line\": {\"color\": \"#2a3f5f\"}}, \"ternary\": {\"aaxis\": {\"gridcolor\": \"white\", \"linecolor\": \"white\", \"ticks\": \"\"}, \"baxis\": {\"gridcolor\": \"white\", \"linecolor\": \"white\", \"ticks\": \"\"}, \"bgcolor\": \"#E5ECF6\", \"caxis\": {\"gridcolor\": \"white\", \"linecolor\": \"white\", \"ticks\": \"\"}}, \"title\": {\"x\": 0.05}, \"xaxis\": {\"automargin\": true, \"gridcolor\": \"white\", \"linecolor\": \"white\", \"ticks\": \"\", \"title\": {\"standoff\": 15}, \"zerolinecolor\": \"white\", \"zerolinewidth\": 2}, \"yaxis\": {\"automargin\": true, \"gridcolor\": \"white\", \"linecolor\": \"white\", \"ticks\": \"\", \"title\": {\"standoff\": 15}, \"zerolinecolor\": \"white\", \"zerolinewidth\": 2}}}, \"title\": {\"text\": \"Count of Occupancy variable\"}},\n",
              "                        {\"responsive\": true}\n",
              "                    ).then(function(){\n",
              "                            \n",
              "var gd = document.getElementById('da0382cb-c4b3-4d93-aa97-e88f82db94e9');\n",
              "var x = new MutationObserver(function (mutations, observer) {{\n",
              "        var display = window.getComputedStyle(gd).display;\n",
              "        if (!display || display === 'none') {{\n",
              "            console.log([gd, 'removed!']);\n",
              "            Plotly.purge(gd);\n",
              "            observer.disconnect();\n",
              "        }}\n",
              "}});\n",
              "\n",
              "// Listen for the removal of the full notebook cells\n",
              "var notebookContainer = gd.closest('#notebook-container');\n",
              "if (notebookContainer) {{\n",
              "    x.observe(notebookContainer, {childList: true});\n",
              "}}\n",
              "\n",
              "// Listen for the clearing of the current output cell\n",
              "var outputEl = gd.closest('.output');\n",
              "if (outputEl) {{\n",
              "    x.observe(outputEl, {childList: true});\n",
              "}}\n",
              "\n",
              "                        })\n",
              "                };\n",
              "                \n",
              "            </script>\n",
              "        </div>\n",
              "</body>\n",
              "</html>"
            ]
          },
          "metadata": {
            "tags": []
          }
        },
        {
          "output_type": "display_data",
          "data": {
            "text/html": [
              "<html>\n",
              "<head><meta charset=\"utf-8\" /></head>\n",
              "<body>\n",
              "    <div>\n",
              "            <script src=\"https://cdnjs.cloudflare.com/ajax/libs/mathjax/2.7.5/MathJax.js?config=TeX-AMS-MML_SVG\"></script><script type=\"text/javascript\">if (window.MathJax) {MathJax.Hub.Config({SVG: {font: \"STIX-Web\"}});}</script>\n",
              "                <script type=\"text/javascript\">window.PlotlyConfig = {MathJaxConfig: 'local'};</script>\n",
              "        <script src=\"https://cdn.plot.ly/plotly-latest.min.js\"></script>    \n",
              "            <div id=\"01b64555-e3f8-44b7-b6f2-d19329f6636d\" class=\"plotly-graph-div\" style=\"height:525px; width:100%;\"></div>\n",
              "            <script type=\"text/javascript\">\n",
              "                \n",
              "                    window.PLOTLYENV=window.PLOTLYENV || {};\n",
              "                    \n",
              "                if (document.getElementById(\"01b64555-e3f8-44b7-b6f2-d19329f6636d\")) {\n",
              "                    Plotly.newPlot(\n",
              "                        '01b64555-e3f8-44b7-b6f2-d19329f6636d',\n",
              "                        [{\"labels\": [\"Not Occupied\", \"Occupied\"], \"marker\": {\"colors\": [\"lightskyblue\", \"gold\"], \"line\": {\"color\": \"#000000\", \"width\": 1.5}}, \"opacity\": 0.8, \"textfont\": {\"size\": 15}, \"type\": \"pie\", \"values\": [15810, 4750]}],\n",
              "                        {\"template\": {\"data\": {\"bar\": [{\"error_x\": {\"color\": \"#2a3f5f\"}, \"error_y\": {\"color\": \"#2a3f5f\"}, \"marker\": {\"line\": {\"color\": \"#E5ECF6\", \"width\": 0.5}}, \"type\": \"bar\"}], \"barpolar\": [{\"marker\": {\"line\": {\"color\": \"#E5ECF6\", \"width\": 0.5}}, \"type\": \"barpolar\"}], \"carpet\": [{\"aaxis\": {\"endlinecolor\": \"#2a3f5f\", \"gridcolor\": \"white\", \"linecolor\": \"white\", \"minorgridcolor\": \"white\", \"startlinecolor\": \"#2a3f5f\"}, \"baxis\": {\"endlinecolor\": \"#2a3f5f\", \"gridcolor\": \"white\", \"linecolor\": \"white\", \"minorgridcolor\": \"white\", \"startlinecolor\": \"#2a3f5f\"}, \"type\": \"carpet\"}], \"choropleth\": [{\"colorbar\": {\"outlinewidth\": 0, \"ticks\": \"\"}, \"type\": \"choropleth\"}], \"contour\": [{\"colorbar\": {\"outlinewidth\": 0, \"ticks\": \"\"}, \"colorscale\": [[0.0, \"#0d0887\"], [0.1111111111111111, \"#46039f\"], [0.2222222222222222, \"#7201a8\"], [0.3333333333333333, \"#9c179e\"], [0.4444444444444444, \"#bd3786\"], [0.5555555555555556, \"#d8576b\"], [0.6666666666666666, \"#ed7953\"], [0.7777777777777778, \"#fb9f3a\"], [0.8888888888888888, \"#fdca26\"], [1.0, \"#f0f921\"]], \"type\": \"contour\"}], \"contourcarpet\": [{\"colorbar\": {\"outlinewidth\": 0, \"ticks\": \"\"}, \"type\": \"contourcarpet\"}], \"heatmap\": [{\"colorbar\": {\"outlinewidth\": 0, \"ticks\": \"\"}, \"colorscale\": [[0.0, \"#0d0887\"], [0.1111111111111111, \"#46039f\"], [0.2222222222222222, \"#7201a8\"], [0.3333333333333333, \"#9c179e\"], [0.4444444444444444, \"#bd3786\"], [0.5555555555555556, \"#d8576b\"], [0.6666666666666666, \"#ed7953\"], [0.7777777777777778, \"#fb9f3a\"], [0.8888888888888888, \"#fdca26\"], [1.0, \"#f0f921\"]], \"type\": \"heatmap\"}], \"heatmapgl\": [{\"colorbar\": {\"outlinewidth\": 0, \"ticks\": \"\"}, \"colorscale\": [[0.0, \"#0d0887\"], [0.1111111111111111, \"#46039f\"], [0.2222222222222222, \"#7201a8\"], [0.3333333333333333, \"#9c179e\"], [0.4444444444444444, \"#bd3786\"], [0.5555555555555556, \"#d8576b\"], [0.6666666666666666, \"#ed7953\"], [0.7777777777777778, \"#fb9f3a\"], [0.8888888888888888, \"#fdca26\"], [1.0, \"#f0f921\"]], \"type\": \"heatmapgl\"}], \"histogram\": [{\"marker\": {\"colorbar\": {\"outlinewidth\": 0, \"ticks\": \"\"}}, \"type\": \"histogram\"}], \"histogram2d\": [{\"colorbar\": {\"outlinewidth\": 0, \"ticks\": \"\"}, \"colorscale\": [[0.0, \"#0d0887\"], [0.1111111111111111, \"#46039f\"], [0.2222222222222222, \"#7201a8\"], [0.3333333333333333, \"#9c179e\"], [0.4444444444444444, \"#bd3786\"], [0.5555555555555556, \"#d8576b\"], [0.6666666666666666, \"#ed7953\"], [0.7777777777777778, \"#fb9f3a\"], [0.8888888888888888, \"#fdca26\"], [1.0, \"#f0f921\"]], \"type\": \"histogram2d\"}], \"histogram2dcontour\": [{\"colorbar\": {\"outlinewidth\": 0, \"ticks\": \"\"}, \"colorscale\": [[0.0, \"#0d0887\"], [0.1111111111111111, \"#46039f\"], [0.2222222222222222, \"#7201a8\"], [0.3333333333333333, \"#9c179e\"], [0.4444444444444444, \"#bd3786\"], [0.5555555555555556, \"#d8576b\"], [0.6666666666666666, \"#ed7953\"], [0.7777777777777778, \"#fb9f3a\"], [0.8888888888888888, \"#fdca26\"], [1.0, \"#f0f921\"]], \"type\": \"histogram2dcontour\"}], \"mesh3d\": [{\"colorbar\": {\"outlinewidth\": 0, \"ticks\": \"\"}, \"type\": \"mesh3d\"}], \"parcoords\": [{\"line\": {\"colorbar\": {\"outlinewidth\": 0, \"ticks\": \"\"}}, \"type\": \"parcoords\"}], \"pie\": [{\"automargin\": true, \"type\": \"pie\"}], \"scatter\": [{\"marker\": {\"colorbar\": {\"outlinewidth\": 0, \"ticks\": \"\"}}, \"type\": \"scatter\"}], \"scatter3d\": [{\"line\": {\"colorbar\": {\"outlinewidth\": 0, \"ticks\": \"\"}}, \"marker\": {\"colorbar\": {\"outlinewidth\": 0, \"ticks\": \"\"}}, \"type\": \"scatter3d\"}], \"scattercarpet\": [{\"marker\": {\"colorbar\": {\"outlinewidth\": 0, \"ticks\": \"\"}}, \"type\": \"scattercarpet\"}], \"scattergeo\": [{\"marker\": {\"colorbar\": {\"outlinewidth\": 0, \"ticks\": \"\"}}, \"type\": \"scattergeo\"}], \"scattergl\": [{\"marker\": {\"colorbar\": {\"outlinewidth\": 0, \"ticks\": \"\"}}, \"type\": \"scattergl\"}], \"scattermapbox\": [{\"marker\": {\"colorbar\": {\"outlinewidth\": 0, \"ticks\": \"\"}}, \"type\": \"scattermapbox\"}], \"scatterpolar\": [{\"marker\": {\"colorbar\": {\"outlinewidth\": 0, \"ticks\": \"\"}}, \"type\": \"scatterpolar\"}], \"scatterpolargl\": [{\"marker\": {\"colorbar\": {\"outlinewidth\": 0, \"ticks\": \"\"}}, \"type\": \"scatterpolargl\"}], \"scatterternary\": [{\"marker\": {\"colorbar\": {\"outlinewidth\": 0, \"ticks\": \"\"}}, \"type\": \"scatterternary\"}], \"surface\": [{\"colorbar\": {\"outlinewidth\": 0, \"ticks\": \"\"}, \"colorscale\": [[0.0, \"#0d0887\"], [0.1111111111111111, \"#46039f\"], [0.2222222222222222, \"#7201a8\"], [0.3333333333333333, \"#9c179e\"], [0.4444444444444444, \"#bd3786\"], [0.5555555555555556, \"#d8576b\"], [0.6666666666666666, \"#ed7953\"], [0.7777777777777778, \"#fb9f3a\"], [0.8888888888888888, \"#fdca26\"], [1.0, \"#f0f921\"]], \"type\": \"surface\"}], \"table\": [{\"cells\": {\"fill\": {\"color\": \"#EBF0F8\"}, \"line\": {\"color\": \"white\"}}, \"header\": {\"fill\": {\"color\": \"#C8D4E3\"}, \"line\": {\"color\": \"white\"}}, \"type\": \"table\"}]}, \"layout\": {\"annotationdefaults\": {\"arrowcolor\": \"#2a3f5f\", \"arrowhead\": 0, \"arrowwidth\": 1}, \"coloraxis\": {\"colorbar\": {\"outlinewidth\": 0, \"ticks\": \"\"}}, \"colorscale\": {\"diverging\": [[0, \"#8e0152\"], [0.1, \"#c51b7d\"], [0.2, \"#de77ae\"], [0.3, \"#f1b6da\"], [0.4, \"#fde0ef\"], [0.5, \"#f7f7f7\"], [0.6, \"#e6f5d0\"], [0.7, \"#b8e186\"], [0.8, \"#7fbc41\"], [0.9, \"#4d9221\"], [1, \"#276419\"]], \"sequential\": [[0.0, \"#0d0887\"], [0.1111111111111111, \"#46039f\"], [0.2222222222222222, \"#7201a8\"], [0.3333333333333333, \"#9c179e\"], [0.4444444444444444, \"#bd3786\"], [0.5555555555555556, \"#d8576b\"], [0.6666666666666666, \"#ed7953\"], [0.7777777777777778, \"#fb9f3a\"], [0.8888888888888888, \"#fdca26\"], [1.0, \"#f0f921\"]], \"sequentialminus\": [[0.0, \"#0d0887\"], [0.1111111111111111, \"#46039f\"], [0.2222222222222222, \"#7201a8\"], [0.3333333333333333, \"#9c179e\"], [0.4444444444444444, \"#bd3786\"], [0.5555555555555556, \"#d8576b\"], [0.6666666666666666, \"#ed7953\"], [0.7777777777777778, \"#fb9f3a\"], [0.8888888888888888, \"#fdca26\"], [1.0, \"#f0f921\"]]}, \"colorway\": [\"#636efa\", \"#EF553B\", \"#00cc96\", \"#ab63fa\", \"#FFA15A\", \"#19d3f3\", \"#FF6692\", \"#B6E880\", \"#FF97FF\", \"#FECB52\"], \"font\": {\"color\": \"#2a3f5f\"}, \"geo\": {\"bgcolor\": \"white\", \"lakecolor\": \"white\", \"landcolor\": \"#E5ECF6\", \"showlakes\": true, \"showland\": true, \"subunitcolor\": \"white\"}, \"hoverlabel\": {\"align\": \"left\"}, \"hovermode\": \"closest\", \"mapbox\": {\"style\": \"light\"}, \"paper_bgcolor\": \"white\", \"plot_bgcolor\": \"#E5ECF6\", \"polar\": {\"angularaxis\": {\"gridcolor\": \"white\", \"linecolor\": \"white\", \"ticks\": \"\"}, \"bgcolor\": \"#E5ECF6\", \"radialaxis\": {\"gridcolor\": \"white\", \"linecolor\": \"white\", \"ticks\": \"\"}}, \"scene\": {\"xaxis\": {\"backgroundcolor\": \"#E5ECF6\", \"gridcolor\": \"white\", \"gridwidth\": 2, \"linecolor\": \"white\", \"showbackground\": true, \"ticks\": \"\", \"zerolinecolor\": \"white\"}, \"yaxis\": {\"backgroundcolor\": \"#E5ECF6\", \"gridcolor\": \"white\", \"gridwidth\": 2, \"linecolor\": \"white\", \"showbackground\": true, \"ticks\": \"\", \"zerolinecolor\": \"white\"}, \"zaxis\": {\"backgroundcolor\": \"#E5ECF6\", \"gridcolor\": \"white\", \"gridwidth\": 2, \"linecolor\": \"white\", \"showbackground\": true, \"ticks\": \"\", \"zerolinecolor\": \"white\"}}, \"shapedefaults\": {\"line\": {\"color\": \"#2a3f5f\"}}, \"ternary\": {\"aaxis\": {\"gridcolor\": \"white\", \"linecolor\": \"white\", \"ticks\": \"\"}, \"baxis\": {\"gridcolor\": \"white\", \"linecolor\": \"white\", \"ticks\": \"\"}, \"bgcolor\": \"#E5ECF6\", \"caxis\": {\"gridcolor\": \"white\", \"linecolor\": \"white\", \"ticks\": \"\"}}, \"title\": {\"x\": 0.05}, \"xaxis\": {\"automargin\": true, \"gridcolor\": \"white\", \"linecolor\": \"white\", \"ticks\": \"\", \"title\": {\"standoff\": 15}, \"zerolinecolor\": \"white\", \"zerolinewidth\": 2}, \"yaxis\": {\"automargin\": true, \"gridcolor\": \"white\", \"linecolor\": \"white\", \"ticks\": \"\", \"title\": {\"standoff\": 15}, \"zerolinecolor\": \"white\", \"zerolinewidth\": 2}}}, \"title\": {\"text\": \"Distribution of Occupancy variable\"}},\n",
              "                        {\"responsive\": true}\n",
              "                    ).then(function(){\n",
              "                            \n",
              "var gd = document.getElementById('01b64555-e3f8-44b7-b6f2-d19329f6636d');\n",
              "var x = new MutationObserver(function (mutations, observer) {{\n",
              "        var display = window.getComputedStyle(gd).display;\n",
              "        if (!display || display === 'none') {{\n",
              "            console.log([gd, 'removed!']);\n",
              "            Plotly.purge(gd);\n",
              "            observer.disconnect();\n",
              "        }}\n",
              "}});\n",
              "\n",
              "// Listen for the removal of the full notebook cells\n",
              "var notebookContainer = gd.closest('#notebook-container');\n",
              "if (notebookContainer) {{\n",
              "    x.observe(notebookContainer, {childList: true});\n",
              "}}\n",
              "\n",
              "// Listen for the clearing of the current output cell\n",
              "var outputEl = gd.closest('.output');\n",
              "if (outputEl) {{\n",
              "    x.observe(outputEl, {childList: true});\n",
              "}}\n",
              "\n",
              "                        })\n",
              "                };\n",
              "                \n",
              "            </script>\n",
              "        </div>\n",
              "</body>\n",
              "</html>"
            ]
          },
          "metadata": {
            "tags": []
          }
        }
      ]
    },
    {
      "cell_type": "markdown",
      "metadata": {
        "id": "S6xIO4BIq2jZ"
      },
      "source": [
        "**Train Test Split**"
      ]
    },
    {
      "cell_type": "code",
      "metadata": {
        "id": "3UUH00nRq2jZ"
      },
      "source": [
        "X = dataset.iloc[:, :5]\n",
        "Y = dataset.iloc[:, 5]"
      ],
      "execution_count": 13,
      "outputs": []
    },
    {
      "cell_type": "code",
      "metadata": {
        "id": "rNfCvOPLq2ja"
      },
      "source": [
        "X_train, X_test, Y_train, Y_test = train_test_split(X, Y, test_size=0.5, random_state=2)"
      ],
      "execution_count": 14,
      "outputs": []
    },
    {
      "cell_type": "code",
      "metadata": {
        "id": "AMH5e5vrq2ja"
      },
      "source": [
        "X_train = X_train.reset_index(drop=True)\n",
        "X_test = X_test.reset_index(drop=True)\n",
        "Y_train = Y_train.reset_index(drop=True)\n",
        "Y_test = Y_test.reset_index(drop=True)"
      ],
      "execution_count": 15,
      "outputs": []
    },
    {
      "cell_type": "markdown",
      "metadata": {
        "id": "gtZNyw7Kq2jb"
      },
      "source": [
        "**Feature Scaling Training Data** \n",
        "\n",
        "$\\frac{X-min}{max-min}$"
      ]
    },
    {
      "cell_type": "code",
      "metadata": {
        "id": "N_VyrnRTq2jb"
      },
      "source": [
        "x = X_train.values #returns a numpy array\n",
        "min_max_scaler = preprocessing.MinMaxScaler()\n",
        "x_scaled = min_max_scaler.fit_transform(x)\n",
        "X_train_scale = pd.DataFrame(x_scaled)"
      ],
      "execution_count": 16,
      "outputs": []
    },
    {
      "cell_type": "code",
      "metadata": {
        "id": "EDKcDJxrq2jc"
      },
      "source": [
        "col_names = ['Temperature', 'Humidity', 'Light', 'CO2', 'HumidityRatio']\n",
        "X_train_scale.columns = col_names"
      ],
      "execution_count": 17,
      "outputs": []
    },
    {
      "cell_type": "code",
      "metadata": {
        "id": "q3zLP2CKq2jc"
      },
      "source": [
        "X_train_scale = sm.add_constant(X_train_scale)"
      ],
      "execution_count": 18,
      "outputs": []
    },
    {
      "cell_type": "markdown",
      "metadata": {
        "id": "JZLFQtgqq2jc"
      },
      "source": [
        "**Linear Probability Model**"
      ]
    },
    {
      "cell_type": "markdown",
      "metadata": {
        "id": "_6titciAq2jc"
      },
      "source": [
        "**Model Application**"
      ]
    },
    {
      "cell_type": "code",
      "metadata": {
        "id": "s5qUv-aqq2jd"
      },
      "source": [
        "X_LPM = X_train_scale.copy()"
      ],
      "execution_count": 19,
      "outputs": []
    },
    {
      "cell_type": "code",
      "metadata": {
        "id": "n-_p0Hk7q2jd",
        "colab": {
          "base_uri": "https://localhost:8080/",
          "height": 528
        },
        "outputId": "3b0a51ed-420a-464c-cda6-69a5a8ade265"
      },
      "source": [
        "LPM_1 = sm.OLS(Y_train, X_LPM)\n",
        "result_LPM1 = LPM_1.fit()\n",
        "result_LPM1.summary()"
      ],
      "execution_count": 20,
      "outputs": [
        {
          "output_type": "execute_result",
          "data": {
            "text/html": [
              "<table class=\"simpletable\">\n",
              "<caption>OLS Regression Results</caption>\n",
              "<tr>\n",
              "  <th>Dep. Variable:</th>        <td>Occupancy</td>    <th>  R-squared:         </th> <td>   0.868</td> \n",
              "</tr>\n",
              "<tr>\n",
              "  <th>Model:</th>                   <td>OLS</td>       <th>  Adj. R-squared:    </th> <td>   0.868</td> \n",
              "</tr>\n",
              "<tr>\n",
              "  <th>Method:</th>             <td>Least Squares</td>  <th>  F-statistic:       </th> <td>1.348e+04</td>\n",
              "</tr>\n",
              "<tr>\n",
              "  <th>Date:</th>             <td>Sun, 15 Aug 2021</td> <th>  Prob (F-statistic):</th>  <td>  0.00</td>  \n",
              "</tr>\n",
              "<tr>\n",
              "  <th>Time:</th>                 <td>04:05:32</td>     <th>  Log-Likelihood:    </th> <td>  4718.0</td> \n",
              "</tr>\n",
              "<tr>\n",
              "  <th>No. Observations:</th>      <td> 10280</td>      <th>  AIC:               </th> <td>  -9424.</td> \n",
              "</tr>\n",
              "<tr>\n",
              "  <th>Df Residuals:</th>          <td> 10274</td>      <th>  BIC:               </th> <td>  -9381.</td> \n",
              "</tr>\n",
              "<tr>\n",
              "  <th>Df Model:</th>              <td>     5</td>      <th>                     </th>     <td> </td>    \n",
              "</tr>\n",
              "<tr>\n",
              "  <th>Covariance Type:</th>      <td>nonrobust</td>    <th>                     </th>     <td> </td>    \n",
              "</tr>\n",
              "</table>\n",
              "<table class=\"simpletable\">\n",
              "<tr>\n",
              "        <td></td>           <th>coef</th>     <th>std err</th>      <th>t</th>      <th>P>|t|</th>  <th>[0.025</th>    <th>0.975]</th>  \n",
              "</tr>\n",
              "<tr>\n",
              "  <th>const</th>         <td>    0.5862</td> <td>    0.023</td> <td>   25.421</td> <td> 0.000</td> <td>    0.541</td> <td>    0.631</td>\n",
              "</tr>\n",
              "<tr>\n",
              "  <th>Temperature</th>   <td>   -1.6111</td> <td>    0.053</td> <td>  -30.347</td> <td> 0.000</td> <td>   -1.715</td> <td>   -1.507</td>\n",
              "</tr>\n",
              "<tr>\n",
              "  <th>Humidity</th>      <td>   -3.1245</td> <td>    0.131</td> <td>  -23.805</td> <td> 0.000</td> <td>   -3.382</td> <td>   -2.867</td>\n",
              "</tr>\n",
              "<tr>\n",
              "  <th>Light</th>         <td>    3.0580</td> <td>    0.016</td> <td>  191.033</td> <td> 0.000</td> <td>    3.027</td> <td>    3.089</td>\n",
              "</tr>\n",
              "<tr>\n",
              "  <th>CO2</th>           <td>    0.2122</td> <td>    0.011</td> <td>   19.385</td> <td> 0.000</td> <td>    0.191</td> <td>    0.234</td>\n",
              "</tr>\n",
              "<tr>\n",
              "  <th>HumidityRatio</th> <td>    3.4820</td> <td>    0.145</td> <td>   23.936</td> <td> 0.000</td> <td>    3.197</td> <td>    3.767</td>\n",
              "</tr>\n",
              "</table>\n",
              "<table class=\"simpletable\">\n",
              "<tr>\n",
              "  <th>Omnibus:</th>       <td>8690.358</td> <th>  Durbin-Watson:     </th>  <td>   2.000</td> \n",
              "</tr>\n",
              "<tr>\n",
              "  <th>Prob(Omnibus):</th>  <td> 0.000</td>  <th>  Jarque-Bera (JB):  </th> <td>629223.869</td>\n",
              "</tr>\n",
              "<tr>\n",
              "  <th>Skew:</th>           <td>-3.638</td>  <th>  Prob(JB):          </th>  <td>    0.00</td> \n",
              "</tr>\n",
              "<tr>\n",
              "  <th>Kurtosis:</th>       <td>40.631</td>  <th>  Cond. No.          </th>  <td>    170.</td> \n",
              "</tr>\n",
              "</table><br/><br/>Warnings:<br/>[1] Standard Errors assume that the covariance matrix of the errors is correctly specified."
            ],
            "text/plain": [
              "<class 'statsmodels.iolib.summary.Summary'>\n",
              "\"\"\"\n",
              "                            OLS Regression Results                            \n",
              "==============================================================================\n",
              "Dep. Variable:              Occupancy   R-squared:                       0.868\n",
              "Model:                            OLS   Adj. R-squared:                  0.868\n",
              "Method:                 Least Squares   F-statistic:                 1.348e+04\n",
              "Date:                Sun, 15 Aug 2021   Prob (F-statistic):               0.00\n",
              "Time:                        04:05:32   Log-Likelihood:                 4718.0\n",
              "No. Observations:               10280   AIC:                            -9424.\n",
              "Df Residuals:                   10274   BIC:                            -9381.\n",
              "Df Model:                           5                                         \n",
              "Covariance Type:            nonrobust                                         \n",
              "=================================================================================\n",
              "                    coef    std err          t      P>|t|      [0.025      0.975]\n",
              "---------------------------------------------------------------------------------\n",
              "const             0.5862      0.023     25.421      0.000       0.541       0.631\n",
              "Temperature      -1.6111      0.053    -30.347      0.000      -1.715      -1.507\n",
              "Humidity         -3.1245      0.131    -23.805      0.000      -3.382      -2.867\n",
              "Light             3.0580      0.016    191.033      0.000       3.027       3.089\n",
              "CO2               0.2122      0.011     19.385      0.000       0.191       0.234\n",
              "HumidityRatio     3.4820      0.145     23.936      0.000       3.197       3.767\n",
              "==============================================================================\n",
              "Omnibus:                     8690.358   Durbin-Watson:                   2.000\n",
              "Prob(Omnibus):                  0.000   Jarque-Bera (JB):           629223.869\n",
              "Skew:                          -3.638   Prob(JB):                         0.00\n",
              "Kurtosis:                      40.631   Cond. No.                         170.\n",
              "==============================================================================\n",
              "\n",
              "Warnings:\n",
              "[1] Standard Errors assume that the covariance matrix of the errors is correctly specified.\n",
              "\"\"\""
            ]
          },
          "metadata": {
            "tags": []
          },
          "execution_count": 20
        }
      ]
    },
    {
      "cell_type": "markdown",
      "metadata": {
        "id": "HuqBWxvQq2jd"
      },
      "source": [
        "**Observation : All variables are significant**"
      ]
    },
    {
      "cell_type": "markdown",
      "metadata": {
        "id": "lsEWt4LFq2jd"
      },
      "source": [
        "**Variable Inflation Factor (VIF) calculation**"
      ]
    },
    {
      "cell_type": "code",
      "metadata": {
        "id": "LeItC37Eq2je"
      },
      "source": [
        "def calculate_vif(df):\n",
        "    vif = pd.DataFrame()\n",
        "    vif['Features'] = df.columns\n",
        "    vif['vif'] = [variance_inflation_factor(df.values, i) for i in range(df.shape[1])]\n",
        "    vif['vif'] = round(vif['vif'],2)\n",
        "    vif = vif.sort_values(by='vif', ascending=False)\n",
        "    print(vif)"
      ],
      "execution_count": 21,
      "outputs": []
    },
    {
      "cell_type": "code",
      "metadata": {
        "scrolled": true,
        "id": "hjjnQ4aSq2je",
        "colab": {
          "base_uri": "https://localhost:8080/"
        },
        "outputId": "a14fd40e-c3ec-46e4-9d81-55e555147e8b"
      },
      "source": [
        "calculate_vif(X_LPM)"
      ],
      "execution_count": 22,
      "outputs": [
        {
          "output_type": "stream",
          "text": [
            "        Features     vif\n",
            "5  HumidityRatio  377.82\n",
            "2       Humidity  362.15\n",
            "0          const  233.66\n",
            "1    Temperature   47.62\n",
            "3          Light    1.98\n",
            "4            CO2    1.86\n"
          ],
          "name": "stdout"
        }
      ]
    },
    {
      "cell_type": "markdown",
      "metadata": {
        "id": "agaHFJCYq2je"
      },
      "source": [
        "**Observation :: HumidityRatio is having high multicollinearity, so dropping it.**"
      ]
    },
    {
      "cell_type": "code",
      "metadata": {
        "id": "cuSEUPOMq2je"
      },
      "source": [
        "X_LPM = X_LPM.drop(['HumidityRatio'], axis = 1)"
      ],
      "execution_count": 23,
      "outputs": []
    },
    {
      "cell_type": "markdown",
      "metadata": {
        "id": "ICdesW4Yq2je"
      },
      "source": [
        "**Building another model after dropping HumidityRatio**"
      ]
    },
    {
      "cell_type": "code",
      "metadata": {
        "id": "DJ8BKDy3q2jf",
        "colab": {
          "base_uri": "https://localhost:8080/",
          "height": 507
        },
        "outputId": "4f9b9a25-59d2-453c-a010-8c2e984eba05"
      },
      "source": [
        "LPM_2 = sm.OLS(Y_train, X_LPM)\n",
        "result_LPM2 = LPM_2.fit()\n",
        "result_LPM2.summary()"
      ],
      "execution_count": 24,
      "outputs": [
        {
          "output_type": "execute_result",
          "data": {
            "text/html": [
              "<table class=\"simpletable\">\n",
              "<caption>OLS Regression Results</caption>\n",
              "<tr>\n",
              "  <th>Dep. Variable:</th>        <td>Occupancy</td>    <th>  R-squared:         </th> <td>   0.860</td> \n",
              "</tr>\n",
              "<tr>\n",
              "  <th>Model:</th>                   <td>OLS</td>       <th>  Adj. R-squared:    </th> <td>   0.860</td> \n",
              "</tr>\n",
              "<tr>\n",
              "  <th>Method:</th>             <td>Least Squares</td>  <th>  F-statistic:       </th> <td>1.583e+04</td>\n",
              "</tr>\n",
              "<tr>\n",
              "  <th>Date:</th>             <td>Sun, 15 Aug 2021</td> <th>  Prob (F-statistic):</th>  <td>  0.00</td>  \n",
              "</tr>\n",
              "<tr>\n",
              "  <th>Time:</th>                 <td>04:06:34</td>     <th>  Log-Likelihood:    </th> <td>  4439.0</td> \n",
              "</tr>\n",
              "<tr>\n",
              "  <th>No. Observations:</th>      <td> 10280</td>      <th>  AIC:               </th> <td>  -8868.</td> \n",
              "</tr>\n",
              "<tr>\n",
              "  <th>Df Residuals:</th>          <td> 10275</td>      <th>  BIC:               </th> <td>  -8832.</td> \n",
              "</tr>\n",
              "<tr>\n",
              "  <th>Df Model:</th>              <td>     4</td>      <th>                     </th>     <td> </td>    \n",
              "</tr>\n",
              "<tr>\n",
              "  <th>Covariance Type:</th>      <td>nonrobust</td>    <th>                     </th>     <td> </td>    \n",
              "</tr>\n",
              "</table>\n",
              "<table class=\"simpletable\">\n",
              "<tr>\n",
              "       <td></td>          <th>coef</th>     <th>std err</th>      <th>t</th>      <th>P>|t|</th>  <th>[0.025</th>    <th>0.975]</th>  \n",
              "</tr>\n",
              "<tr>\n",
              "  <th>const</th>       <td>    0.0492</td> <td>    0.005</td> <td>    8.978</td> <td> 0.000</td> <td>    0.038</td> <td>    0.060</td>\n",
              "</tr>\n",
              "<tr>\n",
              "  <th>Temperature</th> <td>   -0.3695</td> <td>    0.012</td> <td>  -31.798</td> <td> 0.000</td> <td>   -0.392</td> <td>   -0.347</td>\n",
              "</tr>\n",
              "<tr>\n",
              "  <th>Humidity</th>    <td>    0.0119</td> <td>    0.008</td> <td>    1.508</td> <td> 0.132</td> <td>   -0.004</td> <td>    0.027</td>\n",
              "</tr>\n",
              "<tr>\n",
              "  <th>Light</th>       <td>    3.0713</td> <td>    0.016</td> <td>  186.848</td> <td> 0.000</td> <td>    3.039</td> <td>    3.104</td>\n",
              "</tr>\n",
              "<tr>\n",
              "  <th>CO2</th>         <td>    0.3190</td> <td>    0.010</td> <td>   31.050</td> <td> 0.000</td> <td>    0.299</td> <td>    0.339</td>\n",
              "</tr>\n",
              "</table>\n",
              "<table class=\"simpletable\">\n",
              "<tr>\n",
              "  <th>Omnibus:</th>       <td>8429.740</td> <th>  Durbin-Watson:     </th>  <td>   2.005</td> \n",
              "</tr>\n",
              "<tr>\n",
              "  <th>Prob(Omnibus):</th>  <td> 0.000</td>  <th>  Jarque-Bera (JB):  </th> <td>535538.328</td>\n",
              "</tr>\n",
              "<tr>\n",
              "  <th>Skew:</th>           <td>-3.506</td>  <th>  Prob(JB):          </th>  <td>    0.00</td> \n",
              "</tr>\n",
              "<tr>\n",
              "  <th>Kurtosis:</th>       <td>37.657</td>  <th>  Cond. No.          </th>  <td>    14.1</td> \n",
              "</tr>\n",
              "</table><br/><br/>Warnings:<br/>[1] Standard Errors assume that the covariance matrix of the errors is correctly specified."
            ],
            "text/plain": [
              "<class 'statsmodels.iolib.summary.Summary'>\n",
              "\"\"\"\n",
              "                            OLS Regression Results                            \n",
              "==============================================================================\n",
              "Dep. Variable:              Occupancy   R-squared:                       0.860\n",
              "Model:                            OLS   Adj. R-squared:                  0.860\n",
              "Method:                 Least Squares   F-statistic:                 1.583e+04\n",
              "Date:                Sun, 15 Aug 2021   Prob (F-statistic):               0.00\n",
              "Time:                        04:06:34   Log-Likelihood:                 4439.0\n",
              "No. Observations:               10280   AIC:                            -8868.\n",
              "Df Residuals:                   10275   BIC:                            -8832.\n",
              "Df Model:                           4                                         \n",
              "Covariance Type:            nonrobust                                         \n",
              "===============================================================================\n",
              "                  coef    std err          t      P>|t|      [0.025      0.975]\n",
              "-------------------------------------------------------------------------------\n",
              "const           0.0492      0.005      8.978      0.000       0.038       0.060\n",
              "Temperature    -0.3695      0.012    -31.798      0.000      -0.392      -0.347\n",
              "Humidity        0.0119      0.008      1.508      0.132      -0.004       0.027\n",
              "Light           3.0713      0.016    186.848      0.000       3.039       3.104\n",
              "CO2             0.3190      0.010     31.050      0.000       0.299       0.339\n",
              "==============================================================================\n",
              "Omnibus:                     8429.740   Durbin-Watson:                   2.005\n",
              "Prob(Omnibus):                  0.000   Jarque-Bera (JB):           535538.328\n",
              "Skew:                          -3.506   Prob(JB):                         0.00\n",
              "Kurtosis:                      37.657   Cond. No.                         14.1\n",
              "==============================================================================\n",
              "\n",
              "Warnings:\n",
              "[1] Standard Errors assume that the covariance matrix of the errors is correctly specified.\n",
              "\"\"\""
            ]
          },
          "metadata": {
            "tags": []
          },
          "execution_count": 24
        }
      ]
    },
    {
      "cell_type": "markdown",
      "metadata": {
        "id": "SdlP7XKLq2jf"
      },
      "source": [
        "**Observation : Humidity has p-value > 0.05, therefore it is insignificant, dropping it**"
      ]
    },
    {
      "cell_type": "code",
      "metadata": {
        "id": "pw_drLA3q2jf"
      },
      "source": [
        "X_LPM = X_LPM.drop(['Humidity'], axis = 1)"
      ],
      "execution_count": 25,
      "outputs": []
    },
    {
      "cell_type": "markdown",
      "metadata": {
        "id": "Iu7Dm1CTq2jf"
      },
      "source": [
        "**Building another model after dropping Humidity**"
      ]
    },
    {
      "cell_type": "code",
      "metadata": {
        "scrolled": false,
        "id": "XSiG6z-Qq2jf",
        "colab": {
          "base_uri": "https://localhost:8080/",
          "height": 486
        },
        "outputId": "90dff802-355b-42ec-855d-53e207271910"
      },
      "source": [
        "LPM_3 = sm.OLS(Y_train, X_LPM)\n",
        "result_LPM3 = LPM_3.fit()\n",
        "result_LPM3.summary()"
      ],
      "execution_count": 26,
      "outputs": [
        {
          "output_type": "execute_result",
          "data": {
            "text/html": [
              "<table class=\"simpletable\">\n",
              "<caption>OLS Regression Results</caption>\n",
              "<tr>\n",
              "  <th>Dep. Variable:</th>        <td>Occupancy</td>    <th>  R-squared:         </th> <td>   0.860</td> \n",
              "</tr>\n",
              "<tr>\n",
              "  <th>Model:</th>                   <td>OLS</td>       <th>  Adj. R-squared:    </th> <td>   0.860</td> \n",
              "</tr>\n",
              "<tr>\n",
              "  <th>Method:</th>             <td>Least Squares</td>  <th>  F-statistic:       </th> <td>2.110e+04</td>\n",
              "</tr>\n",
              "<tr>\n",
              "  <th>Date:</th>             <td>Sun, 15 Aug 2021</td> <th>  Prob (F-statistic):</th>  <td>  0.00</td>  \n",
              "</tr>\n",
              "<tr>\n",
              "  <th>Time:</th>                 <td>04:06:45</td>     <th>  Log-Likelihood:    </th> <td>  4437.9</td> \n",
              "</tr>\n",
              "<tr>\n",
              "  <th>No. Observations:</th>      <td> 10280</td>      <th>  AIC:               </th> <td>  -8868.</td> \n",
              "</tr>\n",
              "<tr>\n",
              "  <th>Df Residuals:</th>          <td> 10276</td>      <th>  BIC:               </th> <td>  -8839.</td> \n",
              "</tr>\n",
              "<tr>\n",
              "  <th>Df Model:</th>              <td>     3</td>      <th>                     </th>     <td> </td>    \n",
              "</tr>\n",
              "<tr>\n",
              "  <th>Covariance Type:</th>      <td>nonrobust</td>    <th>                     </th>     <td> </td>    \n",
              "</tr>\n",
              "</table>\n",
              "<table class=\"simpletable\">\n",
              "<tr>\n",
              "       <td></td>          <th>coef</th>     <th>std err</th>      <th>t</th>      <th>P>|t|</th>  <th>[0.025</th>    <th>0.975]</th>  \n",
              "</tr>\n",
              "<tr>\n",
              "  <th>const</th>       <td>    0.0556</td> <td>    0.003</td> <td>   16.002</td> <td> 0.000</td> <td>    0.049</td> <td>    0.062</td>\n",
              "</tr>\n",
              "<tr>\n",
              "  <th>Temperature</th> <td>   -0.3745</td> <td>    0.011</td> <td>  -33.631</td> <td> 0.000</td> <td>   -0.396</td> <td>   -0.353</td>\n",
              "</tr>\n",
              "<tr>\n",
              "  <th>Light</th>       <td>    3.0720</td> <td>    0.016</td> <td>  186.941</td> <td> 0.000</td> <td>    3.040</td> <td>    3.104</td>\n",
              "</tr>\n",
              "<tr>\n",
              "  <th>CO2</th>         <td>    0.3252</td> <td>    0.009</td> <td>   34.560</td> <td> 0.000</td> <td>    0.307</td> <td>    0.344</td>\n",
              "</tr>\n",
              "</table>\n",
              "<table class=\"simpletable\">\n",
              "<tr>\n",
              "  <th>Omnibus:</th>       <td>8447.635</td> <th>  Durbin-Watson:     </th>  <td>   2.005</td> \n",
              "</tr>\n",
              "<tr>\n",
              "  <th>Prob(Omnibus):</th>  <td> 0.000</td>  <th>  Jarque-Bera (JB):  </th> <td>540685.291</td>\n",
              "</tr>\n",
              "<tr>\n",
              "  <th>Skew:</th>           <td>-3.516</td>  <th>  Prob(JB):          </th>  <td>    0.00</td> \n",
              "</tr>\n",
              "<tr>\n",
              "  <th>Kurtosis:</th>       <td>37.826</td>  <th>  Cond. No.          </th>  <td>    12.8</td> \n",
              "</tr>\n",
              "</table><br/><br/>Warnings:<br/>[1] Standard Errors assume that the covariance matrix of the errors is correctly specified."
            ],
            "text/plain": [
              "<class 'statsmodels.iolib.summary.Summary'>\n",
              "\"\"\"\n",
              "                            OLS Regression Results                            \n",
              "==============================================================================\n",
              "Dep. Variable:              Occupancy   R-squared:                       0.860\n",
              "Model:                            OLS   Adj. R-squared:                  0.860\n",
              "Method:                 Least Squares   F-statistic:                 2.110e+04\n",
              "Date:                Sun, 15 Aug 2021   Prob (F-statistic):               0.00\n",
              "Time:                        04:06:45   Log-Likelihood:                 4437.9\n",
              "No. Observations:               10280   AIC:                            -8868.\n",
              "Df Residuals:                   10276   BIC:                            -8839.\n",
              "Df Model:                           3                                         \n",
              "Covariance Type:            nonrobust                                         \n",
              "===============================================================================\n",
              "                  coef    std err          t      P>|t|      [0.025      0.975]\n",
              "-------------------------------------------------------------------------------\n",
              "const           0.0556      0.003     16.002      0.000       0.049       0.062\n",
              "Temperature    -0.3745      0.011    -33.631      0.000      -0.396      -0.353\n",
              "Light           3.0720      0.016    186.941      0.000       3.040       3.104\n",
              "CO2             0.3252      0.009     34.560      0.000       0.307       0.344\n",
              "==============================================================================\n",
              "Omnibus:                     8447.635   Durbin-Watson:                   2.005\n",
              "Prob(Omnibus):                  0.000   Jarque-Bera (JB):           540685.291\n",
              "Skew:                          -3.516   Prob(JB):                         0.00\n",
              "Kurtosis:                      37.826   Cond. No.                         12.8\n",
              "==============================================================================\n",
              "\n",
              "Warnings:\n",
              "[1] Standard Errors assume that the covariance matrix of the errors is correctly specified.\n",
              "\"\"\""
            ]
          },
          "metadata": {
            "tags": []
          },
          "execution_count": 26
        }
      ]
    },
    {
      "cell_type": "markdown",
      "metadata": {
        "id": "5jwMXcVGq2jg"
      },
      "source": [
        "**Observation : All variables are significant**"
      ]
    },
    {
      "cell_type": "markdown",
      "metadata": {
        "id": "Va-shYvcq2jg"
      },
      "source": [
        "**Variable Inflation Factor (VIF) calculation**"
      ]
    },
    {
      "cell_type": "code",
      "metadata": {
        "id": "z2UnNrzPq2jg",
        "colab": {
          "base_uri": "https://localhost:8080/"
        },
        "outputId": "410b97a8-37e7-411d-c4b7-58c5cc5effd3"
      },
      "source": [
        "calculate_vif(X_LPM)"
      ],
      "execution_count": 27,
      "outputs": [
        {
          "output_type": "stream",
          "text": [
            "      Features   vif\n",
            "0        const  5.02\n",
            "1  Temperature  1.98\n",
            "2        Light  1.98\n",
            "3          CO2  1.30\n"
          ],
          "name": "stdout"
        }
      ]
    },
    {
      "cell_type": "markdown",
      "metadata": {
        "id": "wYOLdVtcq2jg"
      },
      "source": [
        "**High multicollinearity between variables is absent**"
      ]
    },
    {
      "cell_type": "markdown",
      "metadata": {
        "id": "oZkR3CN5q2jg"
      },
      "source": [
        "**Final Linear Probability Model**"
      ]
    },
    {
      "cell_type": "code",
      "metadata": {
        "id": "TKcBBDIWq2jh"
      },
      "source": [
        "X_LPM_colnames = ['Temperature', 'Light', 'CO2']"
      ],
      "execution_count": 28,
      "outputs": []
    },
    {
      "cell_type": "code",
      "metadata": {
        "id": "UoWJ3dcPq2jh"
      },
      "source": [
        "X_train_LPM = X_train.copy()\n",
        "X_train_LPM = X_train_LPM[X_LPM_colnames]\n",
        "X_train_LPM = sm.add_constant(X_train_LPM)"
      ],
      "execution_count": 29,
      "outputs": []
    },
    {
      "cell_type": "code",
      "metadata": {
        "id": "NumdO-Ymq2jh",
        "colab": {
          "base_uri": "https://localhost:8080/",
          "height": 520
        },
        "outputId": "9d29c76c-5d1a-4cae-e53e-0bd3acdfbf91"
      },
      "source": [
        "LPM_final = sm.OLS(Y_train, X_train_LPM)\n",
        "result_LPM_final = LPM_final.fit()\n",
        "result_LPM_final.summary()"
      ],
      "execution_count": 30,
      "outputs": [
        {
          "output_type": "execute_result",
          "data": {
            "text/html": [
              "<table class=\"simpletable\">\n",
              "<caption>OLS Regression Results</caption>\n",
              "<tr>\n",
              "  <th>Dep. Variable:</th>        <td>Occupancy</td>    <th>  R-squared:         </th> <td>   0.860</td> \n",
              "</tr>\n",
              "<tr>\n",
              "  <th>Model:</th>                   <td>OLS</td>       <th>  Adj. R-squared:    </th> <td>   0.860</td> \n",
              "</tr>\n",
              "<tr>\n",
              "  <th>Method:</th>             <td>Least Squares</td>  <th>  F-statistic:       </th> <td>2.110e+04</td>\n",
              "</tr>\n",
              "<tr>\n",
              "  <th>Date:</th>             <td>Sun, 15 Aug 2021</td> <th>  Prob (F-statistic):</th>  <td>  0.00</td>  \n",
              "</tr>\n",
              "<tr>\n",
              "  <th>Time:</th>                 <td>04:07:05</td>     <th>  Log-Likelihood:    </th> <td>  4437.9</td> \n",
              "</tr>\n",
              "<tr>\n",
              "  <th>No. Observations:</th>      <td> 10280</td>      <th>  AIC:               </th> <td>  -8868.</td> \n",
              "</tr>\n",
              "<tr>\n",
              "  <th>Df Residuals:</th>          <td> 10276</td>      <th>  BIC:               </th> <td>  -8839.</td> \n",
              "</tr>\n",
              "<tr>\n",
              "  <th>Df Model:</th>              <td>     3</td>      <th>                     </th>     <td> </td>    \n",
              "</tr>\n",
              "<tr>\n",
              "  <th>Covariance Type:</th>      <td>nonrobust</td>    <th>                     </th>     <td> </td>    \n",
              "</tr>\n",
              "</table>\n",
              "<table class=\"simpletable\">\n",
              "<tr>\n",
              "       <td></td>          <th>coef</th>     <th>std err</th>      <th>t</th>      <th>P>|t|</th>  <th>[0.025</th>    <th>0.975]</th>  \n",
              "</tr>\n",
              "<tr>\n",
              "  <th>const</th>       <td>    1.2945</td> <td>    0.042</td> <td>   31.055</td> <td> 0.000</td> <td>    1.213</td> <td>    1.376</td>\n",
              "</tr>\n",
              "<tr>\n",
              "  <th>Temperature</th> <td>   -0.0695</td> <td>    0.002</td> <td>  -33.631</td> <td> 0.000</td> <td>   -0.074</td> <td>   -0.065</td>\n",
              "</tr>\n",
              "<tr>\n",
              "  <th>Light</th>       <td>    0.0019</td> <td> 1.04e-05</td> <td>  186.941</td> <td> 0.000</td> <td>    0.002</td> <td>    0.002</td>\n",
              "</tr>\n",
              "<tr>\n",
              "  <th>CO2</th>         <td>    0.0002</td> <td> 5.66e-06</td> <td>   34.560</td> <td> 0.000</td> <td>    0.000</td> <td>    0.000</td>\n",
              "</tr>\n",
              "</table>\n",
              "<table class=\"simpletable\">\n",
              "<tr>\n",
              "  <th>Omnibus:</th>       <td>8447.635</td> <th>  Durbin-Watson:     </th>  <td>   2.005</td> \n",
              "</tr>\n",
              "<tr>\n",
              "  <th>Prob(Omnibus):</th>  <td> 0.000</td>  <th>  Jarque-Bera (JB):  </th> <td>540685.291</td>\n",
              "</tr>\n",
              "<tr>\n",
              "  <th>Skew:</th>           <td>-3.516</td>  <th>  Prob(JB):          </th>  <td>    0.00</td> \n",
              "</tr>\n",
              "<tr>\n",
              "  <th>Kurtosis:</th>       <td>37.826</td>  <th>  Cond. No.          </th>  <td>2.09e+04</td> \n",
              "</tr>\n",
              "</table><br/><br/>Warnings:<br/>[1] Standard Errors assume that the covariance matrix of the errors is correctly specified.<br/>[2] The condition number is large, 2.09e+04. This might indicate that there are<br/>strong multicollinearity or other numerical problems."
            ],
            "text/plain": [
              "<class 'statsmodels.iolib.summary.Summary'>\n",
              "\"\"\"\n",
              "                            OLS Regression Results                            \n",
              "==============================================================================\n",
              "Dep. Variable:              Occupancy   R-squared:                       0.860\n",
              "Model:                            OLS   Adj. R-squared:                  0.860\n",
              "Method:                 Least Squares   F-statistic:                 2.110e+04\n",
              "Date:                Sun, 15 Aug 2021   Prob (F-statistic):               0.00\n",
              "Time:                        04:07:05   Log-Likelihood:                 4437.9\n",
              "No. Observations:               10280   AIC:                            -8868.\n",
              "Df Residuals:                   10276   BIC:                            -8839.\n",
              "Df Model:                           3                                         \n",
              "Covariance Type:            nonrobust                                         \n",
              "===============================================================================\n",
              "                  coef    std err          t      P>|t|      [0.025      0.975]\n",
              "-------------------------------------------------------------------------------\n",
              "const           1.2945      0.042     31.055      0.000       1.213       1.376\n",
              "Temperature    -0.0695      0.002    -33.631      0.000      -0.074      -0.065\n",
              "Light           0.0019   1.04e-05    186.941      0.000       0.002       0.002\n",
              "CO2             0.0002   5.66e-06     34.560      0.000       0.000       0.000\n",
              "==============================================================================\n",
              "Omnibus:                     8447.635   Durbin-Watson:                   2.005\n",
              "Prob(Omnibus):                  0.000   Jarque-Bera (JB):           540685.291\n",
              "Skew:                          -3.516   Prob(JB):                         0.00\n",
              "Kurtosis:                      37.826   Cond. No.                     2.09e+04\n",
              "==============================================================================\n",
              "\n",
              "Warnings:\n",
              "[1] Standard Errors assume that the covariance matrix of the errors is correctly specified.\n",
              "[2] The condition number is large, 2.09e+04. This might indicate that there are\n",
              "strong multicollinearity or other numerical problems.\n",
              "\"\"\""
            ]
          },
          "metadata": {
            "tags": []
          },
          "execution_count": 30
        }
      ]
    },
    {
      "cell_type": "markdown",
      "metadata": {
        "id": "KCyeS_owq2ji"
      },
      "source": [
        "**Best fit Linear Probability model is:** \n",
        "Y = 1.2830 - 0.0688 * Temperature + 0.002 * Light + 0.0002 * CO2"
      ]
    },
    {
      "cell_type": "markdown",
      "metadata": {
        "id": "_tOG6TYBq2ji"
      },
      "source": [
        "**Evalution of Results**"
      ]
    },
    {
      "cell_type": "markdown",
      "metadata": {
        "id": "HJ93Yofyq2ji"
      },
      "source": [
        "**1. ROC Curve**"
      ]
    },
    {
      "cell_type": "code",
      "metadata": {
        "id": "UN0Eqek-q2ji"
      },
      "source": [
        "X_test_LPM = X_test.copy()\n",
        "X_test_LPM = X_test_LPM[X_LPM_colnames]\n",
        "X_test_LPM = sm.add_constant(X_test_LPM)"
      ],
      "execution_count": 31,
      "outputs": []
    },
    {
      "cell_type": "code",
      "metadata": {
        "id": "bh4z0Ce6q2ji"
      },
      "source": [
        "def draw_roc_curve(actual, probs):\n",
        "    fpr, tpr, thresholds = roc_curve(actual, probs)\n",
        "    auc_score = metrics.roc_auc_score( actual, probs )\n",
        "    plt.figure(figsize=(5, 5))\n",
        "    plt.plot( fpr, tpr, label='ROC curve (area = %0.2f)' % auc_score )\n",
        "    plt.plot([0, 1], [0, 1], 'k--')\n",
        "    plt.xlim([0.0, 1.0])\n",
        "    plt.ylim([0.0, 1.05])\n",
        "    plt.xlabel('False Positive Rate or [1 - True Negative Rate]')\n",
        "    plt.ylabel('True Positive Rate')\n",
        "    plt.legend(loc=\"lower right\")\n",
        "    plt.show()"
      ],
      "execution_count": 32,
      "outputs": []
    },
    {
      "cell_type": "code",
      "metadata": {
        "id": "k6P_0RIPq2jj"
      },
      "source": [
        "Y_LPM_probs = result_LPM_final.predict(X_test_LPM)\n",
        "Y_LPM_probs = Y_LPM_probs.to_numpy()\n",
        "Y_actual = Y_test.to_numpy()"
      ],
      "execution_count": 33,
      "outputs": []
    },
    {
      "cell_type": "code",
      "metadata": {
        "id": "ghbnMENAq2jj",
        "colab": {
          "base_uri": "https://localhost:8080/",
          "height": 334
        },
        "outputId": "448c944f-2429-420e-ac82-dc080f22a3ea"
      },
      "source": [
        "draw_roc_curve(Y_actual, Y_LPM_probs)"
      ],
      "execution_count": 34,
      "outputs": [
        {
          "output_type": "display_data",
          "data": {
            "image/png": "[encoded data removed]",
            "text/plain": [
              "<Figure size 360x360 with 1 Axes>"
            ]
          },
          "metadata": {
            "tags": [],
            "needs_background": "light"
          }
        }
      ]
    },
    {
      "cell_type": "markdown",
      "metadata": {
        "id": "Zrpk5r5fq2jj"
      },
      "source": [
        "**2. Confusion Matrix**"
      ]
    },
    {
      "cell_type": "code",
      "metadata": {
        "id": "8sxatLgUq2jj"
      },
      "source": [
        "Y_pred_LPM = result_LPM_final.predict(X_test_LPM)"
      ],
      "execution_count": 35,
      "outputs": []
    },
    {
      "cell_type": "code",
      "metadata": {
        "id": "6wQTAXyiq2jj"
      },
      "source": [
        "for i in range(len(Y_pred_LPM)):\n",
        "    if Y_pred_LPM.iloc[i] >= 0.5:\n",
        "        Y_pred_LPM.iloc[i] = 1\n",
        "    else:\n",
        "        Y_pred_LPM.iloc[i] = 0"
      ],
      "execution_count": 36,
      "outputs": []
    },
    {
      "cell_type": "code",
      "metadata": {
        "id": "ggG6MdeBq2jj",
        "colab": {
          "base_uri": "https://localhost:8080/"
        },
        "outputId": "f7127ce0-08b9-4f1e-a64c-33c9ed0bc94f"
      },
      "source": [
        "conf_mat_LPM = confusion_matrix(Y_test, Y_pred_LPM)\n",
        "conf_mat_LPM"
      ],
      "execution_count": 37,
      "outputs": [
        {
          "output_type": "execute_result",
          "data": {
            "text/plain": [
              "array([[7751,  138],\n",
              "       [   6, 2385]])"
            ]
          },
          "metadata": {
            "tags": []
          },
          "execution_count": 37
        }
      ]
    },
    {
      "cell_type": "code",
      "metadata": {
        "id": "LzbvXur4q2jk",
        "colab": {
          "base_uri": "https://localhost:8080/"
        },
        "outputId": "9e078439-d13e-4efc-d9ee-24e55579bd1f"
      },
      "source": [
        "print('Test Sensitivity : ', conf_mat_LPM[1,1] / (conf_mat_LPM[1,1] + conf_mat_LPM[1,0]))\n",
        "print('Test Specificity : ', conf_mat_LPM[0,0] / (conf_mat_LPM[0,0] + conf_mat_LPM[0,1]))\n",
        "print('True Positive Rate : ', conf_mat_LPM[1,1] / (conf_mat_LPM[1,1] + conf_mat_LPM[1,0]))\n",
        "print('False Positive Rate : ', 1 - (conf_mat_LPM[0,0] / (conf_mat_LPM[0,0] + conf_mat_LPM[0,1])))"
      ],
      "execution_count": 38,
      "outputs": [
        {
          "output_type": "stream",
          "text": [
            "Test Sensitivity :  0.9974905897114178\n",
            "Test Specificity :  0.9825072886297376\n",
            "True Positive Rate :  0.9974905897114178\n",
            "False Positive Rate :  0.017492711370262426\n"
          ],
          "name": "stdout"
        }
      ]
    },
    {
      "cell_type": "code",
      "metadata": {
        "id": "PvmK0ABSq2jk",
        "colab": {
          "base_uri": "https://localhost:8080/"
        },
        "outputId": "375ee614-80c8-4bae-fb80-e5fc517d68e8"
      },
      "source": [
        "accuracy = (conf_mat_LPM[0, 0] + conf_mat_LPM[1, 1]) / np.sum(conf_mat_LPM)\n",
        "accuracy"
      ],
      "execution_count": 39,
      "outputs": [
        {
          "output_type": "execute_result",
          "data": {
            "text/plain": [
              "0.9859922178988327"
            ]
          },
          "metadata": {
            "tags": []
          },
          "execution_count": 39
        }
      ]
    },
    {
      "cell_type": "code",
      "metadata": {
        "id": "CXtRka1Qq2jk",
        "colab": {
          "base_uri": "https://localhost:8080/"
        },
        "outputId": "92be8014-aa60-4f33-ed0d-8520affebf74"
      },
      "source": [
        "print(classification_report(Y_test, Y_pred_LPM))"
      ],
      "execution_count": 40,
      "outputs": [
        {
          "output_type": "stream",
          "text": [
            "              precision    recall  f1-score   support\n",
            "\n",
            "           0       1.00      0.98      0.99      7889\n",
            "           1       0.95      1.00      0.97      2391\n",
            "\n",
            "    accuracy                           0.99     10280\n",
            "   macro avg       0.97      0.99      0.98     10280\n",
            "weighted avg       0.99      0.99      0.99     10280\n",
            "\n"
          ],
          "name": "stdout"
        }
      ]
    },
    {
      "cell_type": "markdown",
      "metadata": {
        "id": "DEUNeYCmq2jk"
      },
      "source": [
        "**Probit Model**"
      ]
    },
    {
      "cell_type": "markdown",
      "metadata": {
        "id": "ujZS-ODnq2jk"
      },
      "source": [
        "**Model Application**"
      ]
    },
    {
      "cell_type": "code",
      "metadata": {
        "id": "LVPztYcaq2jk"
      },
      "source": [
        "X_Probit = X_train_scale.copy()"
      ],
      "execution_count": 41,
      "outputs": []
    },
    {
      "cell_type": "code",
      "metadata": {
        "id": "X_VYtnKNq2jl",
        "colab": {
          "base_uri": "https://localhost:8080/",
          "height": 468
        },
        "outputId": "d26254a9-b706-4e44-d417-7b4b96082f5c"
      },
      "source": [
        "Probit_1 = sm.Probit(Y_train, X_Probit)\n",
        "result_Probit1 = Probit_1.fit()\n",
        "result_Probit1.summary()"
      ],
      "execution_count": 42,
      "outputs": [
        {
          "output_type": "stream",
          "text": [
            "Optimization terminated successfully.\n",
            "         Current function value: 0.061510\n",
            "         Iterations 19\n"
          ],
          "name": "stdout"
        },
        {
          "output_type": "execute_result",
          "data": {
            "text/html": [
              "<table class=\"simpletable\">\n",
              "<caption>Probit Regression Results</caption>\n",
              "<tr>\n",
              "  <th>Dep. Variable:</th>       <td>Occupancy</td>    <th>  No. Observations:  </th>  <td> 10280</td> \n",
              "</tr>\n",
              "<tr>\n",
              "  <th>Model:</th>                <td>Probit</td>      <th>  Df Residuals:      </th>  <td> 10274</td> \n",
              "</tr>\n",
              "<tr>\n",
              "  <th>Method:</th>                 <td>MLE</td>       <th>  Df Model:          </th>  <td>     5</td> \n",
              "</tr>\n",
              "<tr>\n",
              "  <th>Date:</th>            <td>Sun, 15 Aug 2021</td> <th>  Pseudo R-squ.:     </th>  <td>0.8858</td> \n",
              "</tr>\n",
              "<tr>\n",
              "  <th>Time:</th>                <td>04:08:04</td>     <th>  Log-Likelihood:    </th> <td> -632.32</td>\n",
              "</tr>\n",
              "<tr>\n",
              "  <th>converged:</th>             <td>True</td>       <th>  LL-Null:           </th> <td> -5537.2</td>\n",
              "</tr>\n",
              "<tr>\n",
              "  <th>Covariance Type:</th>     <td>nonrobust</td>    <th>  LLR p-value:       </th>  <td> 0.000</td> \n",
              "</tr>\n",
              "</table>\n",
              "<table class=\"simpletable\">\n",
              "<tr>\n",
              "        <td></td>           <th>coef</th>     <th>std err</th>      <th>z</th>      <th>P>|z|</th>  <th>[0.025</th>    <th>0.975]</th>  \n",
              "</tr>\n",
              "<tr>\n",
              "  <th>const</th>         <td>    0.2812</td> <td>    0.861</td> <td>    0.327</td> <td> 0.744</td> <td>   -1.406</td> <td>    1.968</td>\n",
              "</tr>\n",
              "<tr>\n",
              "  <th>Temperature</th>   <td>  -11.0801</td> <td>    1.802</td> <td>   -6.148</td> <td> 0.000</td> <td>  -14.612</td> <td>   -7.548</td>\n",
              "</tr>\n",
              "<tr>\n",
              "  <th>Humidity</th>      <td>  -20.3687</td> <td>    4.562</td> <td>   -4.465</td> <td> 0.000</td> <td>  -29.311</td> <td>  -11.427</td>\n",
              "</tr>\n",
              "<tr>\n",
              "  <th>Light</th>         <td>   18.4545</td> <td>    0.463</td> <td>   39.882</td> <td> 0.000</td> <td>   17.548</td> <td>   19.361</td>\n",
              "</tr>\n",
              "<tr>\n",
              "  <th>CO2</th>           <td>    2.6960</td> <td>    0.272</td> <td>    9.899</td> <td> 0.000</td> <td>    2.162</td> <td>    3.230</td>\n",
              "</tr>\n",
              "<tr>\n",
              "  <th>HumidityRatio</th> <td>   22.7599</td> <td>    4.821</td> <td>    4.721</td> <td> 0.000</td> <td>   13.310</td> <td>   32.210</td>\n",
              "</tr>\n",
              "</table><br/><br/>Possibly complete quasi-separation: A fraction 0.29 of observations can be<br/>perfectly predicted. This might indicate that there is complete<br/>quasi-separation. In this case some parameters will not be identified."
            ],
            "text/plain": [
              "<class 'statsmodels.iolib.summary.Summary'>\n",
              "\"\"\"\n",
              "                          Probit Regression Results                           \n",
              "==============================================================================\n",
              "Dep. Variable:              Occupancy   No. Observations:                10280\n",
              "Model:                         Probit   Df Residuals:                    10274\n",
              "Method:                           MLE   Df Model:                            5\n",
              "Date:                Sun, 15 Aug 2021   Pseudo R-squ.:                  0.8858\n",
              "Time:                        04:08:04   Log-Likelihood:                -632.32\n",
              "converged:                       True   LL-Null:                       -5537.2\n",
              "Covariance Type:            nonrobust   LLR p-value:                     0.000\n",
              "=================================================================================\n",
              "                    coef    std err          z      P>|z|      [0.025      0.975]\n",
              "---------------------------------------------------------------------------------\n",
              "const             0.2812      0.861      0.327      0.744      -1.406       1.968\n",
              "Temperature     -11.0801      1.802     -6.148      0.000     -14.612      -7.548\n",
              "Humidity        -20.3687      4.562     -4.465      0.000     -29.311     -11.427\n",
              "Light            18.4545      0.463     39.882      0.000      17.548      19.361\n",
              "CO2               2.6960      0.272      9.899      0.000       2.162       3.230\n",
              "HumidityRatio    22.7599      4.821      4.721      0.000      13.310      32.210\n",
              "=================================================================================\n",
              "\n",
              "Possibly complete quasi-separation: A fraction 0.29 of observations can be\n",
              "perfectly predicted. This might indicate that there is complete\n",
              "quasi-separation. In this case some parameters will not be identified.\n",
              "\"\"\""
            ]
          },
          "metadata": {
            "tags": []
          },
          "execution_count": 42
        }
      ]
    },
    {
      "cell_type": "markdown",
      "metadata": {
        "id": "0vZFi_7Tq2jl"
      },
      "source": [
        "**Observation :: All varibles are significant**"
      ]
    },
    {
      "cell_type": "markdown",
      "metadata": {
        "id": "4ok7prTKq2jl"
      },
      "source": [
        "**Variable Inflation Factor (VIF) calculation**"
      ]
    },
    {
      "cell_type": "code",
      "metadata": {
        "scrolled": false,
        "id": "jJT5azgPq2jl",
        "colab": {
          "base_uri": "https://localhost:8080/"
        },
        "outputId": "076868d0-fd8a-4863-f915-8058ea8a9f4a"
      },
      "source": [
        "calculate_vif(X_Probit)"
      ],
      "execution_count": 43,
      "outputs": [
        {
          "output_type": "stream",
          "text": [
            "        Features     vif\n",
            "5  HumidityRatio  377.82\n",
            "2       Humidity  362.15\n",
            "0          const  233.66\n",
            "1    Temperature   47.62\n",
            "3          Light    1.98\n",
            "4            CO2    1.86\n"
          ],
          "name": "stdout"
        }
      ]
    },
    {
      "cell_type": "markdown",
      "metadata": {
        "id": "8hIAURzJq2jl"
      },
      "source": [
        "**Observation :: HumidityRatio is having high multicollinearity, so dropping it.**"
      ]
    },
    {
      "cell_type": "code",
      "metadata": {
        "id": "SxK94sKhq2jl"
      },
      "source": [
        "X_Probit = X_Probit.drop(['HumidityRatio'], axis = 1)"
      ],
      "execution_count": 44,
      "outputs": []
    },
    {
      "cell_type": "markdown",
      "metadata": {
        "id": "P_lgNBuYq2jl"
      },
      "source": [
        "**Building Another Model**"
      ]
    },
    {
      "cell_type": "code",
      "metadata": {
        "id": "zAkzQwF9q2jm",
        "colab": {
          "base_uri": "https://localhost:8080/",
          "height": 447
        },
        "outputId": "b00266d5-f9dc-47f2-edc6-e594067bf9d4"
      },
      "source": [
        "Probit_2 = sm.Probit(Y_train, X_Probit)\n",
        "result_Probit2 = Probit_2.fit()\n",
        "result_Probit2.summary()"
      ],
      "execution_count": 45,
      "outputs": [
        {
          "output_type": "stream",
          "text": [
            "Optimization terminated successfully.\n",
            "         Current function value: 0.062625\n",
            "         Iterations 18\n"
          ],
          "name": "stdout"
        },
        {
          "output_type": "execute_result",
          "data": {
            "text/html": [
              "<table class=\"simpletable\">\n",
              "<caption>Probit Regression Results</caption>\n",
              "<tr>\n",
              "  <th>Dep. Variable:</th>       <td>Occupancy</td>    <th>  No. Observations:  </th>  <td> 10280</td> \n",
              "</tr>\n",
              "<tr>\n",
              "  <th>Model:</th>                <td>Probit</td>      <th>  Df Residuals:      </th>  <td> 10275</td> \n",
              "</tr>\n",
              "<tr>\n",
              "  <th>Method:</th>                 <td>MLE</td>       <th>  Df Model:          </th>  <td>     4</td> \n",
              "</tr>\n",
              "<tr>\n",
              "  <th>Date:</th>            <td>Sun, 15 Aug 2021</td> <th>  Pseudo R-squ.:     </th>  <td>0.8837</td> \n",
              "</tr>\n",
              "<tr>\n",
              "  <th>Time:</th>                <td>04:08:27</td>     <th>  Log-Likelihood:    </th> <td> -643.79</td>\n",
              "</tr>\n",
              "<tr>\n",
              "  <th>converged:</th>             <td>True</td>       <th>  LL-Null:           </th> <td> -5537.2</td>\n",
              "</tr>\n",
              "<tr>\n",
              "  <th>Covariance Type:</th>     <td>nonrobust</td>    <th>  LLR p-value:       </th>  <td> 0.000</td> \n",
              "</tr>\n",
              "</table>\n",
              "<table class=\"simpletable\">\n",
              "<tr>\n",
              "       <td></td>          <th>coef</th>     <th>std err</th>      <th>z</th>      <th>P>|z|</th>  <th>[0.025</th>    <th>0.975]</th>  \n",
              "</tr>\n",
              "<tr>\n",
              "  <th>const</th>       <td>   -3.8401</td> <td>    0.186</td> <td>  -20.644</td> <td> 0.000</td> <td>   -4.205</td> <td>   -3.475</td>\n",
              "</tr>\n",
              "<tr>\n",
              "  <th>Temperature</th> <td>   -2.6995</td> <td>    0.260</td> <td>  -10.400</td> <td> 0.000</td> <td>   -3.208</td> <td>   -2.191</td>\n",
              "</tr>\n",
              "<tr>\n",
              "  <th>Humidity</th>    <td>    1.1990</td> <td>    0.229</td> <td>    5.241</td> <td> 0.000</td> <td>    0.751</td> <td>    1.647</td>\n",
              "</tr>\n",
              "<tr>\n",
              "  <th>Light</th>       <td>   18.9558</td> <td>    0.464</td> <td>   40.873</td> <td> 0.000</td> <td>   18.047</td> <td>   19.865</td>\n",
              "</tr>\n",
              "<tr>\n",
              "  <th>CO2</th>         <td>    2.8925</td> <td>    0.261</td> <td>   11.095</td> <td> 0.000</td> <td>    2.381</td> <td>    3.403</td>\n",
              "</tr>\n",
              "</table><br/><br/>Possibly complete quasi-separation: A fraction 0.33 of observations can be<br/>perfectly predicted. This might indicate that there is complete<br/>quasi-separation. In this case some parameters will not be identified."
            ],
            "text/plain": [
              "<class 'statsmodels.iolib.summary.Summary'>\n",
              "\"\"\"\n",
              "                          Probit Regression Results                           \n",
              "==============================================================================\n",
              "Dep. Variable:              Occupancy   No. Observations:                10280\n",
              "Model:                         Probit   Df Residuals:                    10275\n",
              "Method:                           MLE   Df Model:                            4\n",
              "Date:                Sun, 15 Aug 2021   Pseudo R-squ.:                  0.8837\n",
              "Time:                        04:08:27   Log-Likelihood:                -643.79\n",
              "converged:                       True   LL-Null:                       -5537.2\n",
              "Covariance Type:            nonrobust   LLR p-value:                     0.000\n",
              "===============================================================================\n",
              "                  coef    std err          z      P>|z|      [0.025      0.975]\n",
              "-------------------------------------------------------------------------------\n",
              "const          -3.8401      0.186    -20.644      0.000      -4.205      -3.475\n",
              "Temperature    -2.6995      0.260    -10.400      0.000      -3.208      -2.191\n",
              "Humidity        1.1990      0.229      5.241      0.000       0.751       1.647\n",
              "Light          18.9558      0.464     40.873      0.000      18.047      19.865\n",
              "CO2             2.8925      0.261     11.095      0.000       2.381       3.403\n",
              "===============================================================================\n",
              "\n",
              "Possibly complete quasi-separation: A fraction 0.33 of observations can be\n",
              "perfectly predicted. This might indicate that there is complete\n",
              "quasi-separation. In this case some parameters will not be identified.\n",
              "\"\"\""
            ]
          },
          "metadata": {
            "tags": []
          },
          "execution_count": 45
        }
      ]
    },
    {
      "cell_type": "markdown",
      "metadata": {
        "id": "McL1v3jdq2jm"
      },
      "source": [
        "**Observation : All variables are significant**"
      ]
    },
    {
      "cell_type": "markdown",
      "metadata": {
        "id": "aT3sjBzqq2jm"
      },
      "source": [
        "**Variable Inflation Factor (VIF) calculation**"
      ]
    },
    {
      "cell_type": "code",
      "metadata": {
        "scrolled": false,
        "id": "hYrkuR56q2jm",
        "colab": {
          "base_uri": "https://localhost:8080/"
        },
        "outputId": "06b19c4a-03af-41a9-ac1f-a554ce14ea05"
      },
      "source": [
        "calculate_vif(X_Probit)"
      ],
      "execution_count": 46,
      "outputs": [
        {
          "output_type": "stream",
          "text": [
            "      Features    vif\n",
            "0        const  12.49\n",
            "1  Temperature   2.16\n",
            "3        Light   1.98\n",
            "4          CO2   1.55\n",
            "2     Humidity   1.24\n"
          ],
          "name": "stdout"
        }
      ]
    },
    {
      "cell_type": "markdown",
      "metadata": {
        "id": "f7jnHJrwq2jm"
      },
      "source": [
        "**High multicollinearity between variables is absent**"
      ]
    },
    {
      "cell_type": "markdown",
      "metadata": {
        "id": "JD72BTW2q2jm"
      },
      "source": [
        "**Final Probit Model**"
      ]
    },
    {
      "cell_type": "code",
      "metadata": {
        "id": "gpQWQLM4q2jm"
      },
      "source": [
        "X_Probit_colnames = ['Temperature', 'Humidity', 'Light', 'CO2']"
      ],
      "execution_count": 47,
      "outputs": []
    },
    {
      "cell_type": "code",
      "metadata": {
        "id": "XlpCjk1yq2jn"
      },
      "source": [
        "X_train_Probit = X_train.copy()\n",
        "X_train_Probit = X_train_Probit[X_Probit_colnames]\n",
        "X_train_Probit = sm.add_constant(X_train_Probit)"
      ],
      "execution_count": 48,
      "outputs": []
    },
    {
      "cell_type": "code",
      "metadata": {
        "id": "TCc7A5Qtq2jn",
        "colab": {
          "base_uri": "https://localhost:8080/",
          "height": 447
        },
        "outputId": "9380f7db-820a-4e46-88a5-88890d9561a4"
      },
      "source": [
        "Probit_final = sm.Probit(Y_train, X_train_Probit)\n",
        "result_Probit_final = Probit_final.fit()\n",
        "result_Probit_final.summary()"
      ],
      "execution_count": 49,
      "outputs": [
        {
          "output_type": "stream",
          "text": [
            "Optimization terminated successfully.\n",
            "         Current function value: 0.062625\n",
            "         Iterations 18\n"
          ],
          "name": "stdout"
        },
        {
          "output_type": "execute_result",
          "data": {
            "text/html": [
              "<table class=\"simpletable\">\n",
              "<caption>Probit Regression Results</caption>\n",
              "<tr>\n",
              "  <th>Dep. Variable:</th>       <td>Occupancy</td>    <th>  No. Observations:  </th>  <td> 10280</td> \n",
              "</tr>\n",
              "<tr>\n",
              "  <th>Model:</th>                <td>Probit</td>      <th>  Df Residuals:      </th>  <td> 10275</td> \n",
              "</tr>\n",
              "<tr>\n",
              "  <th>Method:</th>                 <td>MLE</td>       <th>  Df Model:          </th>  <td>     4</td> \n",
              "</tr>\n",
              "<tr>\n",
              "  <th>Date:</th>            <td>Sun, 15 Aug 2021</td> <th>  Pseudo R-squ.:     </th>  <td>0.8837</td> \n",
              "</tr>\n",
              "<tr>\n",
              "  <th>Time:</th>                <td>04:08:56</td>     <th>  Log-Likelihood:    </th> <td> -643.79</td>\n",
              "</tr>\n",
              "<tr>\n",
              "  <th>converged:</th>             <td>True</td>       <th>  LL-Null:           </th> <td> -5537.2</td>\n",
              "</tr>\n",
              "<tr>\n",
              "  <th>Covariance Type:</th>     <td>nonrobust</td>    <th>  LLR p-value:       </th>  <td> 0.000</td> \n",
              "</tr>\n",
              "</table>\n",
              "<table class=\"simpletable\">\n",
              "<tr>\n",
              "       <td></td>          <th>coef</th>     <th>std err</th>      <th>z</th>      <th>P>|z|</th>  <th>[0.025</th>    <th>0.975]</th>  \n",
              "</tr>\n",
              "<tr>\n",
              "  <th>const</th>       <td>    4.0669</td> <td>    1.015</td> <td>    4.007</td> <td> 0.000</td> <td>    2.078</td> <td>    6.056</td>\n",
              "</tr>\n",
              "<tr>\n",
              "  <th>Temperature</th> <td>   -0.5008</td> <td>    0.048</td> <td>  -10.400</td> <td> 0.000</td> <td>   -0.595</td> <td>   -0.406</td>\n",
              "</tr>\n",
              "<tr>\n",
              "  <th>Humidity</th>    <td>    0.0528</td> <td>    0.010</td> <td>    5.241</td> <td> 0.000</td> <td>    0.033</td> <td>    0.073</td>\n",
              "</tr>\n",
              "<tr>\n",
              "  <th>Light</th>       <td>    0.0120</td> <td>    0.000</td> <td>   40.873</td> <td> 0.000</td> <td>    0.011</td> <td>    0.013</td>\n",
              "</tr>\n",
              "<tr>\n",
              "  <th>CO2</th>         <td>    0.0017</td> <td>    0.000</td> <td>   11.095</td> <td> 0.000</td> <td>    0.001</td> <td>    0.002</td>\n",
              "</tr>\n",
              "</table><br/><br/>Possibly complete quasi-separation: A fraction 0.33 of observations can be<br/>perfectly predicted. This might indicate that there is complete<br/>quasi-separation. In this case some parameters will not be identified."
            ],
            "text/plain": [
              "<class 'statsmodels.iolib.summary.Summary'>\n",
              "\"\"\"\n",
              "                          Probit Regression Results                           \n",
              "==============================================================================\n",
              "Dep. Variable:              Occupancy   No. Observations:                10280\n",
              "Model:                         Probit   Df Residuals:                    10275\n",
              "Method:                           MLE   Df Model:                            4\n",
              "Date:                Sun, 15 Aug 2021   Pseudo R-squ.:                  0.8837\n",
              "Time:                        04:08:56   Log-Likelihood:                -643.79\n",
              "converged:                       True   LL-Null:                       -5537.2\n",
              "Covariance Type:            nonrobust   LLR p-value:                     0.000\n",
              "===============================================================================\n",
              "                  coef    std err          z      P>|z|      [0.025      0.975]\n",
              "-------------------------------------------------------------------------------\n",
              "const           4.0669      1.015      4.007      0.000       2.078       6.056\n",
              "Temperature    -0.5008      0.048    -10.400      0.000      -0.595      -0.406\n",
              "Humidity        0.0528      0.010      5.241      0.000       0.033       0.073\n",
              "Light           0.0120      0.000     40.873      0.000       0.011       0.013\n",
              "CO2             0.0017      0.000     11.095      0.000       0.001       0.002\n",
              "===============================================================================\n",
              "\n",
              "Possibly complete quasi-separation: A fraction 0.33 of observations can be\n",
              "perfectly predicted. This might indicate that there is complete\n",
              "quasi-separation. In this case some parameters will not be identified.\n",
              "\"\"\""
            ]
          },
          "metadata": {
            "tags": []
          },
          "execution_count": 49
        }
      ]
    },
    {
      "cell_type": "markdown",
      "metadata": {
        "id": "VWxqcofGq2jn"
      },
      "source": [
        "**Best fit Probit model is:** Y = Φ(z)\n",
        "\n",
        "z = 4.0622 - 0.4871 * Temperature + 0.0407 * Humidity + 0.0122 * Light + 0.0018 * CO2"
      ]
    },
    {
      "cell_type": "markdown",
      "metadata": {
        "id": "ePoOKPHiq2jn"
      },
      "source": [
        "**Evalution of Results**"
      ]
    },
    {
      "cell_type": "markdown",
      "metadata": {
        "id": "6giCqRv8q2jn"
      },
      "source": [
        "**1. ROC Curve**"
      ]
    },
    {
      "cell_type": "code",
      "metadata": {
        "id": "RU3VfLSCq2jn"
      },
      "source": [
        "X_test_Probit = X_test.copy()\n",
        "X_test_Probit = X_test_Probit[X_Probit_colnames]\n",
        "X_test_Probit = sm.add_constant(X_test_Probit)"
      ],
      "execution_count": 50,
      "outputs": []
    },
    {
      "cell_type": "code",
      "metadata": {
        "id": "mR9ml_zmq2jo"
      },
      "source": [
        "Y_probit_probs = result_Probit_final.predict(X_test_Probit)\n",
        "Y_probit_probs = Y_probit_probs.to_numpy()\n",
        "Y_actual = Y_test.to_numpy()"
      ],
      "execution_count": 51,
      "outputs": []
    },
    {
      "cell_type": "code",
      "metadata": {
        "id": "lrDw9bLVq2jo",
        "colab": {
          "base_uri": "https://localhost:8080/",
          "height": 334
        },
        "outputId": "f7d6d77b-5141-4f2b-f0df-5b6672f339a2"
      },
      "source": [
        "draw_roc_curve(Y_actual, Y_probit_probs)"
      ],
      "execution_count": 52,
      "outputs": [
        {
          "output_type": "display_data",
          "data": {
            "image/png": "[encoded data removed]",
            "text/plain": [
              "<Figure size 360x360 with 1 Axes>"
            ]
          },
          "metadata": {
            "tags": [],
            "needs_background": "light"
          }
        }
      ]
    },
    {
      "cell_type": "markdown",
      "metadata": {
        "id": "DYB-HX0Wq2jo"
      },
      "source": [
        "**2. Confusion Matrix**"
      ]
    },
    {
      "cell_type": "code",
      "metadata": {
        "id": "xj2DNiejq2jo"
      },
      "source": [
        "Y_pred_Probit = result_Probit_final.predict(X_test_Probit)"
      ],
      "execution_count": 53,
      "outputs": []
    },
    {
      "cell_type": "code",
      "metadata": {
        "id": "6EQ1lDcaq2jo"
      },
      "source": [
        "for i in range(len(Y_pred_Probit)):\n",
        "    if Y_pred_Probit.iloc[i] >= 0.5:\n",
        "        Y_pred_Probit.iloc[i] = 1\n",
        "    else:\n",
        "        Y_pred_Probit.iloc[i] = 0"
      ],
      "execution_count": 54,
      "outputs": []
    },
    {
      "cell_type": "code",
      "metadata": {
        "id": "qP0Z3OLJq2jo",
        "colab": {
          "base_uri": "https://localhost:8080/"
        },
        "outputId": "9a8f14ac-de7e-490d-d10d-eb2cabc1e8f0"
      },
      "source": [
        "conf_mat_Probit = confusion_matrix(Y_test, Y_pred_Probit)\n",
        "conf_mat_Probit"
      ],
      "execution_count": 55,
      "outputs": [
        {
          "output_type": "execute_result",
          "data": {
            "text/plain": [
              "array([[7791,   98],\n",
              "       [  10, 2381]])"
            ]
          },
          "metadata": {
            "tags": []
          },
          "execution_count": 55
        }
      ]
    },
    {
      "cell_type": "code",
      "metadata": {
        "id": "YEvREs5Nq2jo",
        "colab": {
          "base_uri": "https://localhost:8080/"
        },
        "outputId": "4b09c88b-1778-4d98-f563-e158fc07b411"
      },
      "source": [
        "print('Test Sensitivity : ', conf_mat_Probit[1,1] / (conf_mat_Probit[1,1] + conf_mat_Probit[1,0]))\n",
        "print('Test Specificity : ', conf_mat_Probit[0,0] / (conf_mat_Probit[0,0] + conf_mat_Probit[0,1]))\n",
        "print('True Positive Rate : ', conf_mat_Probit[1,1] / (conf_mat_Probit[1,1] + conf_mat_Probit[1,0]))\n",
        "print('False Positive Rate : ', 1 - (conf_mat_Probit[0,0] / (conf_mat_Probit[0,0] + conf_mat_Probit[0,1])))"
      ],
      "execution_count": 56,
      "outputs": [
        {
          "output_type": "stream",
          "text": [
            "Test Sensitivity :  0.9958176495190297\n",
            "Test Specificity :  0.9875776397515528\n",
            "True Positive Rate :  0.9958176495190297\n",
            "False Positive Rate :  0.012422360248447228\n"
          ],
          "name": "stdout"
        }
      ]
    },
    {
      "cell_type": "code",
      "metadata": {
        "id": "-kXgU-Iwq2jp",
        "colab": {
          "base_uri": "https://localhost:8080/"
        },
        "outputId": "d61c3465-c067-4541-af68-7e0b498477ec"
      },
      "source": [
        "accuracy = (conf_mat_Probit[0, 0] + conf_mat_Probit[1, 1]) / np.sum(conf_mat_Probit)\n",
        "accuracy"
      ],
      "execution_count": 57,
      "outputs": [
        {
          "output_type": "execute_result",
          "data": {
            "text/plain": [
              "0.9894941634241246"
            ]
          },
          "metadata": {
            "tags": []
          },
          "execution_count": 57
        }
      ]
    },
    {
      "cell_type": "code",
      "metadata": {
        "id": "-rPD0Y7fq2jp",
        "colab": {
          "base_uri": "https://localhost:8080/"
        },
        "outputId": "def8c921-0e99-4526-badc-41c9f0b3eede"
      },
      "source": [
        "print(classification_report(Y_test, Y_pred_Probit))"
      ],
      "execution_count": 58,
      "outputs": [
        {
          "output_type": "stream",
          "text": [
            "              precision    recall  f1-score   support\n",
            "\n",
            "           0       1.00      0.99      0.99      7889\n",
            "           1       0.96      1.00      0.98      2391\n",
            "\n",
            "    accuracy                           0.99     10280\n",
            "   macro avg       0.98      0.99      0.99     10280\n",
            "weighted avg       0.99      0.99      0.99     10280\n",
            "\n"
          ],
          "name": "stdout"
        }
      ]
    },
    {
      "cell_type": "markdown",
      "metadata": {
        "id": "G73Q2lErq2jp"
      },
      "source": [
        "**Logit Model**"
      ]
    },
    {
      "cell_type": "markdown",
      "metadata": {
        "id": "brpaa431q2jp"
      },
      "source": [
        "**Model Application**"
      ]
    },
    {
      "cell_type": "code",
      "metadata": {
        "id": "5mKCLhz4q2jp"
      },
      "source": [
        "X_Logit = X_train_scale.copy()"
      ],
      "execution_count": 59,
      "outputs": []
    },
    {
      "cell_type": "code",
      "metadata": {
        "id": "N71ERjufq2jp",
        "colab": {
          "base_uri": "https://localhost:8080/",
          "height": 383
        },
        "outputId": "4389e363-e1bf-41e5-db42-0a1e410d58d3"
      },
      "source": [
        "Logit_1 = sm.Logit(Y_train, X_Logit)\n",
        "result_Logit1 = Logit_1.fit()\n",
        "result_Logit1.summary()"
      ],
      "execution_count": 60,
      "outputs": [
        {
          "output_type": "stream",
          "text": [
            "Optimization terminated successfully.\n",
            "         Current function value: 0.056298\n",
            "         Iterations 11\n"
          ],
          "name": "stdout"
        },
        {
          "output_type": "execute_result",
          "data": {
            "text/html": [
              "<table class=\"simpletable\">\n",
              "<caption>Logit Regression Results</caption>\n",
              "<tr>\n",
              "  <th>Dep. Variable:</th>       <td>Occupancy</td>    <th>  No. Observations:  </th>  <td> 10280</td> \n",
              "</tr>\n",
              "<tr>\n",
              "  <th>Model:</th>                 <td>Logit</td>      <th>  Df Residuals:      </th>  <td> 10274</td> \n",
              "</tr>\n",
              "<tr>\n",
              "  <th>Method:</th>                 <td>MLE</td>       <th>  Df Model:          </th>  <td>     5</td> \n",
              "</tr>\n",
              "<tr>\n",
              "  <th>Date:</th>            <td>Sun, 15 Aug 2021</td> <th>  Pseudo R-squ.:     </th>  <td>0.8955</td> \n",
              "</tr>\n",
              "<tr>\n",
              "  <th>Time:</th>                <td>04:09:28</td>     <th>  Log-Likelihood:    </th> <td> -578.74</td>\n",
              "</tr>\n",
              "<tr>\n",
              "  <th>converged:</th>             <td>True</td>       <th>  LL-Null:           </th> <td> -5537.2</td>\n",
              "</tr>\n",
              "<tr>\n",
              "  <th>Covariance Type:</th>     <td>nonrobust</td>    <th>  LLR p-value:       </th>  <td> 0.000</td> \n",
              "</tr>\n",
              "</table>\n",
              "<table class=\"simpletable\">\n",
              "<tr>\n",
              "        <td></td>           <th>coef</th>     <th>std err</th>      <th>z</th>      <th>P>|z|</th>  <th>[0.025</th>    <th>0.975]</th>  \n",
              "</tr>\n",
              "<tr>\n",
              "  <th>const</th>         <td>   -0.8141</td> <td>    1.852</td> <td>   -0.440</td> <td> 0.660</td> <td>   -4.443</td> <td>    2.815</td>\n",
              "</tr>\n",
              "<tr>\n",
              "  <th>Temperature</th>   <td>  -18.8409</td> <td>    3.880</td> <td>   -4.855</td> <td> 0.000</td> <td>  -26.446</td> <td>  -11.235</td>\n",
              "</tr>\n",
              "<tr>\n",
              "  <th>Humidity</th>      <td>  -35.1803</td> <td>    9.753</td> <td>   -3.607</td> <td> 0.000</td> <td>  -54.295</td> <td>  -16.065</td>\n",
              "</tr>\n",
              "<tr>\n",
              "  <th>Light</th>         <td>   35.7095</td> <td>    1.171</td> <td>   30.494</td> <td> 0.000</td> <td>   33.414</td> <td>   38.005</td>\n",
              "</tr>\n",
              "<tr>\n",
              "  <th>CO2</th>           <td>    5.6906</td> <td>    0.594</td> <td>    9.577</td> <td> 0.000</td> <td>    4.526</td> <td>    6.855</td>\n",
              "</tr>\n",
              "<tr>\n",
              "  <th>HumidityRatio</th> <td>   39.3738</td> <td>   10.306</td> <td>    3.820</td> <td> 0.000</td> <td>   19.173</td> <td>   59.574</td>\n",
              "</tr>\n",
              "</table>"
            ],
            "text/plain": [
              "<class 'statsmodels.iolib.summary.Summary'>\n",
              "\"\"\"\n",
              "                           Logit Regression Results                           \n",
              "==============================================================================\n",
              "Dep. Variable:              Occupancy   No. Observations:                10280\n",
              "Model:                          Logit   Df Residuals:                    10274\n",
              "Method:                           MLE   Df Model:                            5\n",
              "Date:                Sun, 15 Aug 2021   Pseudo R-squ.:                  0.8955\n",
              "Time:                        04:09:28   Log-Likelihood:                -578.74\n",
              "converged:                       True   LL-Null:                       -5537.2\n",
              "Covariance Type:            nonrobust   LLR p-value:                     0.000\n",
              "=================================================================================\n",
              "                    coef    std err          z      P>|z|      [0.025      0.975]\n",
              "---------------------------------------------------------------------------------\n",
              "const            -0.8141      1.852     -0.440      0.660      -4.443       2.815\n",
              "Temperature     -18.8409      3.880     -4.855      0.000     -26.446     -11.235\n",
              "Humidity        -35.1803      9.753     -3.607      0.000     -54.295     -16.065\n",
              "Light            35.7095      1.171     30.494      0.000      33.414      38.005\n",
              "CO2               5.6906      0.594      9.577      0.000       4.526       6.855\n",
              "HumidityRatio    39.3738     10.306      3.820      0.000      19.173      59.574\n",
              "=================================================================================\n",
              "\"\"\""
            ]
          },
          "metadata": {
            "tags": []
          },
          "execution_count": 60
        }
      ]
    },
    {
      "cell_type": "markdown",
      "metadata": {
        "id": "5EKZoCttq2jp"
      },
      "source": [
        "**Observation :: All variables are significant**"
      ]
    },
    {
      "cell_type": "markdown",
      "metadata": {
        "id": "obZuY2PKq2jq"
      },
      "source": [
        "**Variable Inflation Factor (VIF) calculation**"
      ]
    },
    {
      "cell_type": "code",
      "metadata": {
        "scrolled": true,
        "id": "ljsbhA7Rq2jq",
        "colab": {
          "base_uri": "https://localhost:8080/"
        },
        "outputId": "f7016056-580f-4264-f709-29f36c368154"
      },
      "source": [
        "calculate_vif(X_Logit)"
      ],
      "execution_count": 61,
      "outputs": [
        {
          "output_type": "stream",
          "text": [
            "        Features     vif\n",
            "5  HumidityRatio  377.82\n",
            "2       Humidity  362.15\n",
            "0          const  233.66\n",
            "1    Temperature   47.62\n",
            "3          Light    1.98\n",
            "4            CO2    1.86\n"
          ],
          "name": "stdout"
        }
      ]
    },
    {
      "cell_type": "markdown",
      "metadata": {
        "id": "8QM2GTjgq2jq"
      },
      "source": [
        "**Observation :: HumidityRatio is having high multicollinearity, so dropping it.**"
      ]
    },
    {
      "cell_type": "code",
      "metadata": {
        "id": "0v1BnzaEq2jq"
      },
      "source": [
        "X_Logit = X_Logit.drop(['HumidityRatio'], axis = 1)"
      ],
      "execution_count": 62,
      "outputs": []
    },
    {
      "cell_type": "markdown",
      "metadata": {
        "id": "o78agqIYq2jq"
      },
      "source": [
        "**Building Another Model**"
      ]
    },
    {
      "cell_type": "code",
      "metadata": {
        "id": "bvYgOyP5q2jq",
        "colab": {
          "base_uri": "https://localhost:8080/",
          "height": 362
        },
        "outputId": "0da9b55a-589d-4d17-a3be-0e7342b06291"
      },
      "source": [
        "Logit_2 = sm.Logit(Y_train, X_Logit)\n",
        "result_Logit2 = Logit_2.fit()\n",
        "result_Logit2.summary()"
      ],
      "execution_count": 63,
      "outputs": [
        {
          "output_type": "stream",
          "text": [
            "Optimization terminated successfully.\n",
            "         Current function value: 0.057055\n",
            "         Iterations 10\n"
          ],
          "name": "stdout"
        },
        {
          "output_type": "execute_result",
          "data": {
            "text/html": [
              "<table class=\"simpletable\">\n",
              "<caption>Logit Regression Results</caption>\n",
              "<tr>\n",
              "  <th>Dep. Variable:</th>       <td>Occupancy</td>    <th>  No. Observations:  </th>  <td> 10280</td> \n",
              "</tr>\n",
              "<tr>\n",
              "  <th>Model:</th>                 <td>Logit</td>      <th>  Df Residuals:      </th>  <td> 10275</td> \n",
              "</tr>\n",
              "<tr>\n",
              "  <th>Method:</th>                 <td>MLE</td>       <th>  Df Model:          </th>  <td>     4</td> \n",
              "</tr>\n",
              "<tr>\n",
              "  <th>Date:</th>            <td>Sun, 15 Aug 2021</td> <th>  Pseudo R-squ.:     </th>  <td>0.8941</td> \n",
              "</tr>\n",
              "<tr>\n",
              "  <th>Time:</th>                <td>04:09:36</td>     <th>  Log-Likelihood:    </th> <td> -586.52</td>\n",
              "</tr>\n",
              "<tr>\n",
              "  <th>converged:</th>             <td>True</td>       <th>  LL-Null:           </th> <td> -5537.2</td>\n",
              "</tr>\n",
              "<tr>\n",
              "  <th>Covariance Type:</th>     <td>nonrobust</td>    <th>  LLR p-value:       </th>  <td> 0.000</td> \n",
              "</tr>\n",
              "</table>\n",
              "<table class=\"simpletable\">\n",
              "<tr>\n",
              "       <td></td>          <th>coef</th>     <th>std err</th>      <th>z</th>      <th>P>|z|</th>  <th>[0.025</th>    <th>0.975]</th>  \n",
              "</tr>\n",
              "<tr>\n",
              "  <th>const</th>       <td>   -7.8926</td> <td>    0.400</td> <td>  -19.713</td> <td> 0.000</td> <td>   -8.677</td> <td>   -7.108</td>\n",
              "</tr>\n",
              "<tr>\n",
              "  <th>Temperature</th> <td>   -4.3494</td> <td>    0.543</td> <td>   -8.006</td> <td> 0.000</td> <td>   -5.414</td> <td>   -3.285</td>\n",
              "</tr>\n",
              "<tr>\n",
              "  <th>Humidity</th>    <td>    2.1135</td> <td>    0.465</td> <td>    4.542</td> <td> 0.000</td> <td>    1.201</td> <td>    3.026</td>\n",
              "</tr>\n",
              "<tr>\n",
              "  <th>Light</th>       <td>   36.5936</td> <td>    1.177</td> <td>   31.103</td> <td> 0.000</td> <td>   34.288</td> <td>   38.900</td>\n",
              "</tr>\n",
              "<tr>\n",
              "  <th>CO2</th>         <td>    5.9122</td> <td>    0.578</td> <td>   10.229</td> <td> 0.000</td> <td>    4.779</td> <td>    7.045</td>\n",
              "</tr>\n",
              "</table>"
            ],
            "text/plain": [
              "<class 'statsmodels.iolib.summary.Summary'>\n",
              "\"\"\"\n",
              "                           Logit Regression Results                           \n",
              "==============================================================================\n",
              "Dep. Variable:              Occupancy   No. Observations:                10280\n",
              "Model:                          Logit   Df Residuals:                    10275\n",
              "Method:                           MLE   Df Model:                            4\n",
              "Date:                Sun, 15 Aug 2021   Pseudo R-squ.:                  0.8941\n",
              "Time:                        04:09:36   Log-Likelihood:                -586.52\n",
              "converged:                       True   LL-Null:                       -5537.2\n",
              "Covariance Type:            nonrobust   LLR p-value:                     0.000\n",
              "===============================================================================\n",
              "                  coef    std err          z      P>|z|      [0.025      0.975]\n",
              "-------------------------------------------------------------------------------\n",
              "const          -7.8926      0.400    -19.713      0.000      -8.677      -7.108\n",
              "Temperature    -4.3494      0.543     -8.006      0.000      -5.414      -3.285\n",
              "Humidity        2.1135      0.465      4.542      0.000       1.201       3.026\n",
              "Light          36.5936      1.177     31.103      0.000      34.288      38.900\n",
              "CO2             5.9122      0.578     10.229      0.000       4.779       7.045\n",
              "===============================================================================\n",
              "\"\"\""
            ]
          },
          "metadata": {
            "tags": []
          },
          "execution_count": 63
        }
      ]
    },
    {
      "cell_type": "markdown",
      "metadata": {
        "id": "9SIy3i-Mq2jq"
      },
      "source": [
        "**Observation : All variables are significant**"
      ]
    },
    {
      "cell_type": "markdown",
      "metadata": {
        "id": "fXiFGtyQq2jr"
      },
      "source": [
        "**Variable Inflation Factor (VIF) calculation**"
      ]
    },
    {
      "cell_type": "code",
      "metadata": {
        "scrolled": true,
        "id": "3tYQ8KaMq2jr",
        "colab": {
          "base_uri": "https://localhost:8080/"
        },
        "outputId": "1e347c1d-211d-4399-8e12-cb62881dd235"
      },
      "source": [
        "calculate_vif(X_Logit)"
      ],
      "execution_count": 64,
      "outputs": [
        {
          "output_type": "stream",
          "text": [
            "      Features    vif\n",
            "0        const  12.49\n",
            "1  Temperature   2.16\n",
            "3        Light   1.98\n",
            "4          CO2   1.55\n",
            "2     Humidity   1.24\n"
          ],
          "name": "stdout"
        }
      ]
    },
    {
      "cell_type": "markdown",
      "metadata": {
        "id": "UsYWTkPuq2jr"
      },
      "source": [
        "**High multicollinearity between variables is absent**"
      ]
    },
    {
      "cell_type": "markdown",
      "metadata": {
        "id": "lVDexlwBq2jr"
      },
      "source": [
        "**Final Logit Model**"
      ]
    },
    {
      "cell_type": "code",
      "metadata": {
        "id": "ejmWirw3q2jr"
      },
      "source": [
        "X_Logit_colnames = ['Temperature', 'Humidity', 'Light', 'CO2']"
      ],
      "execution_count": 65,
      "outputs": []
    },
    {
      "cell_type": "code",
      "metadata": {
        "id": "AGGUOOU6q2jr"
      },
      "source": [
        "X_train_Logit = X_train.copy()\n",
        "X_train_Logit = X_train_Logit[X_Logit_colnames]\n",
        "X_train_Logit = sm.add_constant(X_train_Logit)"
      ],
      "execution_count": 66,
      "outputs": []
    },
    {
      "cell_type": "code",
      "metadata": {
        "id": "LP89bLtbq2js",
        "colab": {
          "base_uri": "https://localhost:8080/",
          "height": 362
        },
        "outputId": "2bf17f0d-6322-4b0e-f4c1-6bf17e1f1c6b"
      },
      "source": [
        "Logit_final = sm.Logit(Y_train, X_train_Logit)\n",
        "result_Logit_final = Logit_final.fit()\n",
        "result_Logit_final.summary()"
      ],
      "execution_count": 67,
      "outputs": [
        {
          "output_type": "stream",
          "text": [
            "Optimization terminated successfully.\n",
            "         Current function value: 0.057055\n",
            "         Iterations 10\n"
          ],
          "name": "stdout"
        },
        {
          "output_type": "execute_result",
          "data": {
            "text/html": [
              "<table class=\"simpletable\">\n",
              "<caption>Logit Regression Results</caption>\n",
              "<tr>\n",
              "  <th>Dep. Variable:</th>       <td>Occupancy</td>    <th>  No. Observations:  </th>  <td> 10280</td> \n",
              "</tr>\n",
              "<tr>\n",
              "  <th>Model:</th>                 <td>Logit</td>      <th>  Df Residuals:      </th>  <td> 10275</td> \n",
              "</tr>\n",
              "<tr>\n",
              "  <th>Method:</th>                 <td>MLE</td>       <th>  Df Model:          </th>  <td>     4</td> \n",
              "</tr>\n",
              "<tr>\n",
              "  <th>Date:</th>            <td>Sun, 15 Aug 2021</td> <th>  Pseudo R-squ.:     </th>  <td>0.8941</td> \n",
              "</tr>\n",
              "<tr>\n",
              "  <th>Time:</th>                <td>04:09:46</td>     <th>  Log-Likelihood:    </th> <td> -586.52</td>\n",
              "</tr>\n",
              "<tr>\n",
              "  <th>converged:</th>             <td>True</td>       <th>  LL-Null:           </th> <td> -5537.2</td>\n",
              "</tr>\n",
              "<tr>\n",
              "  <th>Covariance Type:</th>     <td>nonrobust</td>    <th>  LLR p-value:       </th>  <td> 0.000</td> \n",
              "</tr>\n",
              "</table>\n",
              "<table class=\"simpletable\">\n",
              "<tr>\n",
              "       <td></td>          <th>coef</th>     <th>std err</th>      <th>z</th>      <th>P>|z|</th>  <th>[0.025</th>    <th>0.975]</th>  \n",
              "</tr>\n",
              "<tr>\n",
              "  <th>const</th>       <td>    4.3999</td> <td>    2.085</td> <td>    2.110</td> <td> 0.035</td> <td>    0.313</td> <td>    8.487</td>\n",
              "</tr>\n",
              "<tr>\n",
              "  <th>Temperature</th> <td>   -0.8069</td> <td>    0.101</td> <td>   -8.006</td> <td> 0.000</td> <td>   -1.004</td> <td>   -0.609</td>\n",
              "</tr>\n",
              "<tr>\n",
              "  <th>Humidity</th>    <td>    0.0931</td> <td>    0.020</td> <td>    4.542</td> <td> 0.000</td> <td>    0.053</td> <td>    0.133</td>\n",
              "</tr>\n",
              "<tr>\n",
              "  <th>Light</th>       <td>    0.0231</td> <td>    0.001</td> <td>   31.103</td> <td> 0.000</td> <td>    0.022</td> <td>    0.025</td>\n",
              "</tr>\n",
              "<tr>\n",
              "  <th>CO2</th>         <td>    0.0036</td> <td>    0.000</td> <td>   10.229</td> <td> 0.000</td> <td>    0.003</td> <td>    0.004</td>\n",
              "</tr>\n",
              "</table>"
            ],
            "text/plain": [
              "<class 'statsmodels.iolib.summary.Summary'>\n",
              "\"\"\"\n",
              "                           Logit Regression Results                           \n",
              "==============================================================================\n",
              "Dep. Variable:              Occupancy   No. Observations:                10280\n",
              "Model:                          Logit   Df Residuals:                    10275\n",
              "Method:                           MLE   Df Model:                            4\n",
              "Date:                Sun, 15 Aug 2021   Pseudo R-squ.:                  0.8941\n",
              "Time:                        04:09:46   Log-Likelihood:                -586.52\n",
              "converged:                       True   LL-Null:                       -5537.2\n",
              "Covariance Type:            nonrobust   LLR p-value:                     0.000\n",
              "===============================================================================\n",
              "                  coef    std err          z      P>|z|      [0.025      0.975]\n",
              "-------------------------------------------------------------------------------\n",
              "const           4.3999      2.085      2.110      0.035       0.313       8.487\n",
              "Temperature    -0.8069      0.101     -8.006      0.000      -1.004      -0.609\n",
              "Humidity        0.0931      0.020      4.542      0.000       0.053       0.133\n",
              "Light           0.0231      0.001     31.103      0.000       0.022       0.025\n",
              "CO2             0.0036      0.000     10.229      0.000       0.003       0.004\n",
              "===============================================================================\n",
              "\"\"\""
            ]
          },
          "metadata": {
            "tags": []
          },
          "execution_count": 67
        }
      ]
    },
    {
      "cell_type": "markdown",
      "metadata": {
        "id": "DVwYsZb8q2js"
      },
      "source": [
        "**Best fit Logit model is,**\n",
        "Y = 1 / (1 + exp(-z))\n",
        "\n",
        "z = 4.3288 - 0.7863 * Temperature + 0.0762 * Humidity + 0.0236 * Light + 0.0036 * CO2"
      ]
    },
    {
      "cell_type": "markdown",
      "metadata": {
        "id": "m5oOVO2dq2js"
      },
      "source": [
        "**Evalution of Results**"
      ]
    },
    {
      "cell_type": "markdown",
      "metadata": {
        "id": "gaUeMU5Mq2js"
      },
      "source": [
        "**1. ROC Curve**"
      ]
    },
    {
      "cell_type": "code",
      "metadata": {
        "id": "SgkzmJnvq2js"
      },
      "source": [
        "X_test_Logit = X_test.copy()\n",
        "X_test_Logit = X_test_Logit[X_Logit_colnames]\n",
        "X_test_Logit = sm.add_constant(X_test_Logit)"
      ],
      "execution_count": 68,
      "outputs": []
    },
    {
      "cell_type": "code",
      "metadata": {
        "id": "_eF9SJN3q2js"
      },
      "source": [
        "Y_logit_probs = result_Logit_final.predict(X_test_Logit)\n",
        "Y_logit_probs = Y_logit_probs.to_numpy()\n",
        "Y_actual = Y_test.to_numpy()"
      ],
      "execution_count": 69,
      "outputs": []
    },
    {
      "cell_type": "code",
      "metadata": {
        "id": "6s3DOXAmq2js",
        "colab": {
          "base_uri": "https://localhost:8080/",
          "height": 334
        },
        "outputId": "326a8a26-6e1f-45ea-9ea7-339b26ed1d30"
      },
      "source": [
        "draw_roc_curve(Y_actual, Y_logit_probs)"
      ],
      "execution_count": 70,
      "outputs": [
        {
          "output_type": "display_data",
          "data": {
            "image/png": "[encoded data removed]",
            "text/plain": [
              "<Figure size 360x360 with 1 Axes>"
            ]
          },
          "metadata": {
            "tags": [],
            "needs_background": "light"
          }
        }
      ]
    },
    {
      "cell_type": "markdown",
      "metadata": {
        "id": "WxWLM7hGq2jt"
      },
      "source": [
        "**2. Confusion Matrix**"
      ]
    },
    {
      "cell_type": "code",
      "metadata": {
        "id": "COg3IICyq2jt"
      },
      "source": [
        "Y_pred_Logit = result_Logit_final.predict(X_test_Logit)"
      ],
      "execution_count": 71,
      "outputs": []
    },
    {
      "cell_type": "code",
      "metadata": {
        "id": "xaKrBYiPq2jt"
      },
      "source": [
        "for i in range(len(Y_pred_Logit)):\n",
        "    if Y_pred_Logit.iloc[i] >= 0.5:\n",
        "        Y_pred_Logit.iloc[i] = 1\n",
        "    else:\n",
        "        Y_pred_Logit.iloc[i] = 0"
      ],
      "execution_count": 72,
      "outputs": []
    },
    {
      "cell_type": "code",
      "metadata": {
        "id": "2PVJuu-Lq2jt",
        "colab": {
          "base_uri": "https://localhost:8080/"
        },
        "outputId": "e008ffb5-602f-49e9-d6f0-e7d8963f2495"
      },
      "source": [
        "conf_mat_Logit = confusion_matrix(Y_test, Y_pred_Logit)\n",
        "conf_mat_Logit"
      ],
      "execution_count": 73,
      "outputs": [
        {
          "output_type": "execute_result",
          "data": {
            "text/plain": [
              "array([[7791,   98],\n",
              "       [  11, 2380]])"
            ]
          },
          "metadata": {
            "tags": []
          },
          "execution_count": 73
        }
      ]
    },
    {
      "cell_type": "code",
      "metadata": {
        "id": "ephmvjO1q2jt",
        "colab": {
          "base_uri": "https://localhost:8080/"
        },
        "outputId": "3faba37d-0208-4d3a-b2c3-29060968e6c6"
      },
      "source": [
        "print('Test Sensitivity : ', conf_mat_Logit[1,1] / (conf_mat_Logit[1,1] + conf_mat_Logit[1,0]))\n",
        "print('Test Specificity : ', conf_mat_Logit[0,0] / (conf_mat_Logit[0,0] + conf_mat_Logit[0,1]))\n",
        "print('True Positive Rate : ', conf_mat_Logit[1,1] / (conf_mat_Logit[1,1] + conf_mat_Logit[1,0]))\n",
        "print('False Positive Rate : ', 1 - (conf_mat_Logit[0,0] / (conf_mat_Logit[0,0] + conf_mat_Logit[0,1])))"
      ],
      "execution_count": 74,
      "outputs": [
        {
          "output_type": "stream",
          "text": [
            "Test Sensitivity :  0.9953994144709327\n",
            "Test Specificity :  0.9875776397515528\n",
            "True Positive Rate :  0.9953994144709327\n",
            "False Positive Rate :  0.012422360248447228\n"
          ],
          "name": "stdout"
        }
      ]
    },
    {
      "cell_type": "code",
      "metadata": {
        "id": "D_O-NsNgq2jt",
        "colab": {
          "base_uri": "https://localhost:8080/"
        },
        "outputId": "bc38eab1-a605-475b-d681-088ba163e8ac"
      },
      "source": [
        "accuracy = (conf_mat_Logit[0, 0] + conf_mat_Logit[1, 1]) / np.sum(conf_mat_Logit)\n",
        "accuracy"
      ],
      "execution_count": 75,
      "outputs": [
        {
          "output_type": "execute_result",
          "data": {
            "text/plain": [
              "0.9893968871595331"
            ]
          },
          "metadata": {
            "tags": []
          },
          "execution_count": 75
        }
      ]
    },
    {
      "cell_type": "code",
      "metadata": {
        "id": "1zhHNEyxq2ju",
        "colab": {
          "base_uri": "https://localhost:8080/"
        },
        "outputId": "7357a0e1-5feb-4b67-bdb3-d19ab16b2ab2"
      },
      "source": [
        "print(classification_report(Y_test, Y_pred_Logit))"
      ],
      "execution_count": 76,
      "outputs": [
        {
          "output_type": "stream",
          "text": [
            "              precision    recall  f1-score   support\n",
            "\n",
            "           0       1.00      0.99      0.99      7889\n",
            "           1       0.96      1.00      0.98      2391\n",
            "\n",
            "    accuracy                           0.99     10280\n",
            "   macro avg       0.98      0.99      0.99     10280\n",
            "weighted avg       0.99      0.99      0.99     10280\n",
            "\n"
          ],
          "name": "stdout"
        }
      ]
    }
  ]
}